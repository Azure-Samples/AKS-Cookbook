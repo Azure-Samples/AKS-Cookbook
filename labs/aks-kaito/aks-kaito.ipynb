{
 "cells": [
  {
   "cell_type": "markdown",
   "metadata": {},
   "source": [
    "# AKS Cookbook\n",
    "\n",
    "## 🧪 Kubernetes AI Toolchain Operator (KAITO) lab\n",
    "\n",
    "![visual](visual.png)\n",
    "\n",
    "Kaito is an operator that automates the AI/ML model inference or tuning workload in a Kubernetes cluster. The target models are popular open-sourced large models such as falcon and phi-3. \n",
    "In this lab we explore the workflow of onboarding large AI inference models in Kubernetes with Kaito.  \n",
    "It's based on the official [AKS documentation](https://learn.microsoft.com/en-us/azure/aks/ai-toolchain-operator).  \n",
    "\n",
    "▶️ Click on the `Run All` button to execute all the subsequent steps in sequence, or run each step individually by executing the cells one at a time.\n",
    "\n",
    "### TOC\n",
    "\n",
    "- [0️⃣ Initialize notebook variables](#0)\n",
    "- [1️⃣ Verify the Azure CLI and connected Azure subscription](#1)\n",
    "- [2️⃣ Create a new Azure Resource Group or reuse an existing one](#2)\n",
    "- [3️⃣ Create an AKS cluster with the AI toolchain operator add-on enabled](#3)\n",
    "- [4️⃣ Connect to the AKS cluster](#4)\n",
    "- [5️⃣ Create role assignment for the service principal](#5)\n",
    "- [6️⃣ Establish a federated identity credential](#6)\n",
    "- [7️⃣ Deploy a default hosted AI model](#7)\n",
    "- [8️⃣ Track the live resource changes in your workspace](#8)\n",
    "- [9️⃣ Run the model with a sample input ](#9)\n",
    "- [🗑️ Clean up resources](#clean)\n"
   ]
  },
  {
   "cell_type": "markdown",
   "metadata": {},
   "source": [
    "<a id='0'></a>\n",
    "### 0️⃣ Initialize notebook variables\n",
    "Adjust the location parameters according your preferences and on the [product availability by Azure region](https://azure.microsoft.com/en-us/explore/global-infrastructure/products-by-region/?cdn=disable)."
   ]
  },
  {
   "cell_type": "code",
   "execution_count": null,
   "metadata": {},
   "outputs": [],
   "source": [
    "import os, time, json, requests, utils\n",
    "\n",
    "create_resources = True # specify True if you want to create new resources, False to use existing ones\n",
    "\n",
    "if create_resources:\n",
    "    # create new resources with the following properties\n",
    "    deployment_name = os.path.basename(os.path.dirname(globals()['__vsc_ipynb_file__']))\n",
    "    resource_group_name = f\"lab-{deployment_name}\" # change the name to match your naming convention\n",
    "    resource_group_location = \"eastus2\"\n",
    "    aks_resource_name = \"aks-cluster\"\n",
    "    aks_node_count = 1\n",
    "\n",
    "else:\n",
    "    # or use the following existing resources\n",
    "    resource_group_name = \"\"\n",
    "    aks_resource_name = \"\"\n",
    "\n",
    "workspace_instance_type = \"Standard_NC12s_v3\"\n",
    "utils.print_ok('Notebook initiaized')\n"
   ]
  },
  {
   "cell_type": "markdown",
   "metadata": {},
   "source": [
    "<a id='1'></a>\n",
    "### 1️⃣ Verify the Azure CLI and connected Azure subscription\n",
    "The following commands ensure that you have the latest version of the Azure CLI and relevant extensions installed while also verifying that the Azure CLI is connected to your Azure subscription."
   ]
  },
  {
   "cell_type": "code",
   "execution_count": null,
   "metadata": {},
   "outputs": [],
   "source": [
    "output = utils.run(\"az account show\", \"Retrieved az account\", \"Failed to get the current az account\")\n",
    "if output.success and output.json_data:\n",
    "    current_user = output.json_data.get('user').get('name')\n",
    "    subscription_id = output.json_data.get('id')\n",
    "    tenant_id = output.json_data.get('tenantId')\n",
    "output = utils.run(\"az provider register --namespace Microsoft.ContainerService --wait\", \"Microsoft.ContainerService registered in your subscription\", \"Failed to register Microsoft.ContainerService\")\n",
    "output = utils.run(\"az provider register --namespace Microsoft.KubernetesConfiguration --wait\", \"Microsoft.KubernetesConfiguration registered in your subscription\", \"Failed to register Microsoft.KubernetesConfiguration\")\n",
    "output = utils.run(\"az extension add --name k8s-extension\", \"az k8s-extension installed\", \"Failed to install az k8s-extension\")\n",
    "output = utils.run(\"az extension update --name k8s-extension\", \"az k8s-extension updated\", \"Failed to update az k8s-extension\")\n",
    "output = utils.run(\"az extension add --name aks-preview\", \"az aks-preview extension installed\", \"Failed to install az aks-preview extension\")\n",
    "output = utils.run(\"az extension update --name aks-preview\", \"az aks-preview extension updated\", \"Failed to update az aks-preview extension\")\n",
    "\n",
    "output = utils.run(\"az feature register --namespace Microsoft.ContainerService --name AIToolchainOperatorPreview\", \"AIToolchainOperatorPreview registered in your subscription\", \"Failed to register AIToolchainOperatorPreview\")\n",
    "\n",
    "available = utils.check_vm_availability(workspace_instance_type, resource_group_location, subscription_id)\n",
    "if not available:\n",
    "    utils.print_error(f\"Instance type {workspace_instance_type} is not available in location {resource_group_location}\")\n",
    "    raise SystemExit(\"Stopping the notebook!\")\n",
    "\n"
   ]
  },
  {
   "cell_type": "markdown",
   "metadata": {},
   "source": [
    "<a id='2'></a>\n",
    "### 2️⃣ Create a new Azure Resource Group or reuse an existing one\n",
    "All resources deployed in this lab will be created within the designated resource group. "
   ]
  },
  {
   "cell_type": "code",
   "execution_count": null,
   "metadata": {},
   "outputs": [],
   "source": [
    "if create_resources:\n",
    "    utils.create_resource_group(create_resources, resource_group_name, resource_group_location)\n"
   ]
  },
  {
   "cell_type": "markdown",
   "metadata": {},
   "source": [
    "<a id='3'></a>\n",
    "### 3️⃣ Create an AKS cluster with the AI toolchain operator add-on enabled\n",
    "The following step creates an AKS cluster using the [az aks create](https://learn.microsoft.com/en-us/cli/azure/aks?view=azure-cli-latest#az-aks-create) command. "
   ]
  },
  {
   "cell_type": "code",
   "execution_count": null,
   "metadata": {},
   "outputs": [],
   "source": [
    "if create_resources:\n",
    "    output = utils.run(f\"az aks create --resource-group {resource_group_name} --name {aks_resource_name} --node-count {aks_node_count} --enable-oidc-issuer --enable-ai-toolchain-operator --generate-ssh-keys --only-show-errors\",\n",
    "             f\"AKS cluster '{aks_resource_name}' created\",\n",
    "             f\"Failed to create AKS cluster '{aks_resource_name}'\")\n",
    "    if output.success and output.json_data:\n",
    "        aks_resource_id = output.json_data['id']\n",
    "        aks_node_resource_group_name = output.json_data['nodeResourceGroup']\n",
    "        aks_oidc_issuer = output.json_data.get(\"oidcIssuerProfile\").get(\"issuerUrl\")\n",
    "        utils.print_info(f\"AKS Resource Id: {aks_oidc_issuer}\")\n",
    "else:\n",
    "    output = utils.run(f\"az aks show --resource-group {resource_group_name} --name {aks_resource_name} --only-show-errors\",\n",
    "             f\"AKS cluster '{aks_resource_name}' retrieved\",\n",
    "             f\"Failed to retrieve AKS cluster '{aks_resource_name}'\")\n",
    "    if output.success and output.json_data:\n",
    "        aks_resource_id = output.json_data['id']\n",
    "        aks_node_resource_group_name = output.json_data['nodeResourceGroup']\n",
    "        aks_oidc_issuer = output.json_data.get(\"oidcIssuerProfile\").get(\"issuerUrl\")\n"
   ]
  },
  {
   "cell_type": "markdown",
   "metadata": {},
   "source": [
    "<a id='4'></a>\n",
    "### 4️⃣ Connect to the AKS cluster\n",
    "Configure kubectl to connect to your Kubernetes cluster using the [az aks get-credentials](https://learn.microsoft.com/en-us/cli/azure/aks?view=azure-cli-latest#az-aks-get-credentials) command. This command downloads credentials and configures the Kubernetes CLI to use them."
   ]
  },
  {
   "cell_type": "code",
   "execution_count": null,
   "metadata": {},
   "outputs": [],
   "source": [
    "output = utils.run(f\"az aks get-credentials --resource-group {resource_group_name} --name {aks_resource_name} --overwrite-existing\",\n",
    "             f\"Credentials for AKS cluster '{aks_resource_name}' configured\",\n",
    "             f\"Failed to configure credentials for AKS cluster '{aks_resource_name}'\")\n"
   ]
  },
  {
   "cell_type": "markdown",
   "metadata": {},
   "source": [
    "<a id='5'></a>\n",
    "### 5️⃣ Create role assignment for the service principal\n"
   ]
  },
  {
   "cell_type": "code",
   "execution_count": null,
   "metadata": {},
   "outputs": [],
   "source": [
    "kaito_identity_name = f\"ai-toolchain-operator-{aks_resource_name}\"\n",
    "output = utils.run(f\"az identity show -g {aks_node_resource_group_name} -n {kaito_identity_name} --only-show-errors\", \"Identity retrieved\", \"Failed to retrieve identity\")\n",
    "if output.success and output.json_data:\n",
    "    aks_resource_principal_id = output.json_data['principalId']\n",
    "    print(f\"AKS Resource Principal Id: {aks_resource_principal_id}\")\n",
    "\n",
    "output = utils.run(f\"az role assignment create --assignee {aks_resource_principal_id} --scope /subscriptions/{subscription_id}/resourcegroups/{resource_group_name}  --role Contributor\", \"Role assigned\", \"Failed to assign role\")\n"
   ]
  },
  {
   "cell_type": "markdown",
   "metadata": {},
   "source": [
    "<a id='6'></a>\n",
    "### 6️⃣ Establish a federated identity credential\n",
    "\n",
    "Create the federated identity credential between the managed identity, AKS OIDC issuer, and subject using the az identity federated-credential create command."
   ]
  },
  {
   "cell_type": "code",
   "execution_count": null,
   "metadata": {},
   "outputs": [],
   "source": [
    "output = utils.run(f\"az identity federated-credential create --name kaito-federated-identity --identity-name {kaito_identity_name} -g {aks_node_resource_group_name} --issuer {aks_oidc_issuer} --subject system:serviceaccount:\\\"kube-system:kaito-gpu-provisioner\\\" --audience api://AzureADTokenExchange\", \"Federated credential created\", \"Failed to create federated credential\")  \n",
    "\n"
   ]
  },
  {
   "cell_type": "markdown",
   "metadata": {},
   "source": [
    "<a id='7'></a>\n",
    "### 7️⃣ Deploy a default hosted AI model\n",
    "\n"
   ]
  },
  {
   "cell_type": "code",
   "execution_count": null,
   "metadata": {},
   "outputs": [],
   "source": [
    "\n",
    "\n",
    "\n",
    "#! kubectl apply -f kaito_workspace_falcon_7b-instruct.yaml\n"
   ]
  },
  {
   "cell_type": "markdown",
   "metadata": {},
   "source": [
    "<a id='8'></a>\n",
    "### 8️⃣ Track the live resource changes in your workspace\n",
    "\n"
   ]
  },
  {
   "cell_type": "code",
   "execution_count": null,
   "metadata": {},
   "outputs": [],
   "source": [
    "output = utils.run(\"kubectl get workspace workspace-falcon-7b-instruct -o json\", \"Workspace retrieved\", \"Failed to retrieve workspace\")\n",
    "if output.success and output.json_data:\n",
    "    print(output.text)\n",
    "\n",
    "\n",
    "output = utils.run(\"kubectl get svc workspace-falcon-7b-instruct -o jsonpath='{.spec.clusterIP}\")\n",
    "if output.success:\n",
    "    service_ip = output.text\n",
    "    print(f\"Service IP: {service_ip}\")\n",
    "\n"
   ]
  },
  {
   "cell_type": "markdown",
   "metadata": {},
   "source": [
    "<a id='9'></a>\n",
    "### 9️⃣ Run the model with a sample input \n",
    "\n"
   ]
  },
  {
   "cell_type": "code",
   "execution_count": 94,
   "metadata": {},
   "outputs": [],
   "source": [
    "! kubectl run -it --rm --restart=Never curl --image=curlimages/curl -- curl -X POST http://{service_ip}/chat -H \"accept: application/json\" -H \"Content-Type: application/json\" -d \"{\\\"prompt\\\":\\\"what is AKS?\\\"}\"\n"
   ]
  },
  {
   "cell_type": "markdown",
   "metadata": {},
   "source": [
    "<a id='clean'></a>\n",
    "### 🗑️ Clean up resources\n",
    "When you're finished with the lab, you should remove all your deployed resources from Azure to avoid extra charges and keep your Azure subscription uncluttered. Use the [clean-up-resources notebook](clean-up-resources.ipynb) for that."
   ]
  }
 ],
 "metadata": {
  "kernelspec": {
   "display_name": "Python 3",
   "language": "python",
   "name": "python3"
  },
  "language_info": {
   "codemirror_mode": {
    "name": "ipython",
    "version": 3
   },
   "file_extension": ".py",
   "mimetype": "text/x-python",
   "name": "python",
   "nbconvert_exporter": "python",
   "pygments_lexer": "ipython3",
   "version": "3.12.6"
  }
 },
 "nbformat": 4,
 "nbformat_minor": 2
}
