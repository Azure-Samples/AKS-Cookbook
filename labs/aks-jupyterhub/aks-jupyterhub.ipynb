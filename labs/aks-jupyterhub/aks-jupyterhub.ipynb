{
 "cells": [
  {
   "cell_type": "markdown",
   "metadata": {},
   "source": [
    "# AKS Cookbook\n",
    "\n",
    "## 🧪 Zero to JupyterHub with AKS\n",
    "\n",
    "![visual](visual.png)\n",
    "\n",
    "JupyterHub allows users to interact with a computing environment through a webpage. As most devices have access to a web browser, JupyterHub makes it is easy to provide and standardize the computing environment for a group of people (e.g., for a class of students or an analytics team).  \n",
    "It's based on the official [Jupyter documentation](https://z2jh.jupyter.org/en/stable/).  \n",
    "\n",
    "▶️ Click on the `Run All` button to execute all the subsequent steps in sequence, or run each step individually by executing the cells one at a time.\n",
    "\n",
    "### TOC\n",
    "\n",
    "- [0️⃣ Initialize notebook variables](#0)\n",
    "- [1️⃣ Verify the Azure CLI and connected Azure subscription](#1)\n",
    "- [2️⃣ Create a new Azure Resource Group or reuse an existing one](#2)\n",
    "- [3️⃣ Create an AKS cluster](#3)\n",
    "- [4️⃣ Connect to the AKS cluster](#4)\n",
    "- [5️⃣ Install JupyterHub with Helm](#5)\n",
    "- [6️⃣ Retrieve the ingress IP to access the JupyterHub](#6)\n",
    "- [🗑️ Clean up resources](#clean)\n"
   ]
  },
  {
   "cell_type": "markdown",
   "metadata": {},
   "source": [
    "<a id='0'></a>\n",
    "### 0️⃣ Initialize notebook variables\n",
    "Adjust the location parameters according your preferences and on the [product availability by Azure region](https://azure.microsoft.com/en-us/explore/global-infrastructure/products-by-region/?cdn=disable)."
   ]
  },
  {
   "cell_type": "code",
   "execution_count": null,
   "metadata": {},
   "outputs": [],
   "source": [
    "import os, time, json, requests, utils, random\n",
    "create_resources = True # specify True if you want to create new resources, False to use existing ones\n",
    "\n",
    "if create_resources:\n",
    "    # create new resources with the following properties\n",
    "    deployment_name = os.path.basename(os.path.dirname(globals()['__vsc_ipynb_file__']))\n",
    "    resource_group_name = f\"lab-{deployment_name}\" # change the name to match your naming convention\n",
    "    resource_group_location = \"eastus2\"\n",
    "    aks_resource_name = \"aks-cluster\"\n",
    "    aks_node_count = 1\n",
    "\n",
    "    dns_label = f\"jupyterhub-{random.randrange(0,100)}\" \n",
    "\n",
    "else:\n",
    "    # or use the following existing resources\n",
    "    resource_group_name = \"\"\n",
    "    aks_resource_name = \"\"\n",
    "\n",
    "utils.print_ok('Notebook initiaized')\n"
   ]
  },
  {
   "cell_type": "markdown",
   "metadata": {},
   "source": [
    "<a id='1'></a>\n",
    "### 1️⃣ Verify the Azure CLI and connected Azure subscription\n",
    "The following commands ensure that you have the latest version of the Azure CLI and relevant extensions installed while also verifying that the Azure CLI is connected to your Azure subscription."
   ]
  },
  {
   "cell_type": "code",
   "execution_count": null,
   "metadata": {},
   "outputs": [],
   "source": [
    "output = utils.run(\"az account show\", \"Retrieved az account\", \"Failed to get the current az account\")\n",
    "if output.success and output.json_data:\n",
    "    current_user = output.json_data.get('user').get('name')\n",
    "    subsciption_id = output.json_data.get('id')\n",
    "    tenant_id = output.json_data.get('tenantId')\n",
    "output = utils.run(\"az provider register --namespace Microsoft.ContainerService --wait\", \"Microsoft.ContainerService registered in your subscription\", \"Failed to register Microsoft.ContainerService\")\n",
    "output = utils.run(\"az provider register --namespace Microsoft.KubernetesConfiguration --wait\", \"Microsoft.KubernetesConfiguration registered in your subscription\", \"Failed to register Microsoft.KubernetesConfiguration\")\n",
    "output = utils.run(\"az extension add --name k8s-extension\", \"az k8s-extension installed\", \"Failed to install az k8s-extension\")\n",
    "output = utils.run(\"az extension update --name k8s-extension\", \"az k8s-extension updated\", \"Failed to update az k8s-extension\")\n",
    "output = utils.run(\"az extension add --name aks-preview\", \"az aks-preview extension installed\", \"Failed to install az aks-preview extension\")\n",
    "output = utils.run(\"az extension update --name aks-preview\", \"az aks-preview extension updated\", \"Failed to update az aks-preview extension\")\n"
   ]
  },
  {
   "cell_type": "markdown",
   "metadata": {},
   "source": [
    "<a id='2'></a>\n",
    "### 2️⃣ Create a new Azure Resource Group or reuse an existing one\n",
    "All resources deployed in this lab will be created within the designated resource group. "
   ]
  },
  {
   "cell_type": "code",
   "execution_count": null,
   "metadata": {},
   "outputs": [],
   "source": [
    "if create_resources:\n",
    "    utils.create_resource_group(create_resources, resource_group_name, resource_group_location)\n"
   ]
  },
  {
   "cell_type": "markdown",
   "metadata": {},
   "source": [
    "<a id='3'></a>\n",
    "### 3️⃣ Create an AKS cluster\n",
    "The following step creates an AKS cluster using the [az aks create](https://learn.microsoft.com/en-us/cli/azure/aks?view=azure-cli-latest#az-aks-create) command. "
   ]
  },
  {
   "cell_type": "code",
   "execution_count": null,
   "metadata": {},
   "outputs": [],
   "source": [
    "if create_resources:\n",
    "    output = utils.run(f\"az aks create --resource-group {resource_group_name} --name {aks_resource_name} --node-count {aks_node_count} --generate-ssh-keys\",\n",
    "             f\"AKS cluster '{aks_resource_name}' created\",\n",
    "             f\"Failed to create AKS cluster '{aks_resource_name}'\")\n",
    "\n",
    "\n"
   ]
  },
  {
   "cell_type": "markdown",
   "metadata": {},
   "source": [
    "<a id='4'></a>\n",
    "### 4️⃣ Connect to the AKS cluster\n",
    "Configure kubectl to connect to your Kubernetes cluster using the [az aks get-credentials](https://learn.microsoft.com/en-us/cli/azure/aks?view=azure-cli-latest#az-aks-get-credentials) command. This command downloads credentials and configures the Kubernetes CLI to use them."
   ]
  },
  {
   "cell_type": "code",
   "execution_count": null,
   "metadata": {},
   "outputs": [],
   "source": [
    "output = utils.run(f\"az aks get-credentials --resource-group {resource_group_name} --name {aks_resource_name} --overwrite-existing\",\n",
    "             f\"Credentials for AKS cluster '{aks_resource_name}' configured\",\n",
    "             f\"Failed to configure credentials for AKS cluster '{aks_resource_name}'\")\n",
    "\n",
    "\n",
    "output = utils.run(f\"az aks show --resource-group {resource_group_name} --name {aks_resource_name} --only-show-errors\",\n",
    "            f\"AKS cluster '{aks_resource_name}' retrieved\",\n",
    "            f\"Failed to retrieve AKS cluster '{aks_resource_name}'\")\n",
    "if output.success and output.json_data:\n",
    "    aks_node_resource_group = output.json_data.get('nodeResourceGroup')\n",
    "\n"
   ]
  },
  {
   "cell_type": "markdown",
   "metadata": {},
   "source": [
    "<a id='5'></a>\n",
    "### 5️⃣ Install JupyterHub with Helm\n",
    "\n"
   ]
  },
  {
   "cell_type": "code",
   "execution_count": null,
   "metadata": {},
   "outputs": [],
   "source": [
    "! helm repo add jupyterhub https://hub.jupyter.org/helm-chart/\n",
    "! helm repo update\n",
    "\n",
    "! helm upgrade --cleanup-on-fail --install \"jupyterhub\" jupyterhub/jupyterhub --namespace \"jupyterhub\" --create-namespace --version=3.3.8 --values config.yaml"
   ]
  },
  {
   "cell_type": "markdown",
   "metadata": {},
   "source": [
    "<a id='6'></a>\n",
    "### 6️⃣ Retrieve the ingress IP to access the JupyterHub"
   ]
  },
  {
   "cell_type": "code",
   "execution_count": null,
   "metadata": {},
   "outputs": [],
   "source": [
    "output = utils.run(\"kubectl get service proxy-public -n jupyterhub -o json\", \"Retrieved proxy-public service\", \"Failed to get proxy-public service\")\n",
    "if output.success and output.json_data:\n",
    "    proxy_public_ip = output.json_data.get('status').get('loadBalancer').get('ingress')[0].get('ip')\n",
    "\n",
    "    output = utils.run(f\"az network public-ip list --resource-group {aks_node_resource_group} --query \\\"[?ipAddress=='{proxy_public_ip}']\\\"\", \"Retrieved public ip\", \"Failed to retrieve public ip\") \n",
    "    if output.success and output.json_data:\n",
    "        ip_id = output.json_data[0]['id']\n",
    "\n",
    "        utils.run(f\"az network public-ip update --ids {ip_id} --dns-name {dns_label}\", \"Updated public ip with dns label\", \"Failed to update public ip with dns label\")\n",
    "        if output.success and output.json_data:\n",
    "            fqdn = output.json_data[0].get('dnsSettings').get('fqdn')\n",
    "            utils.print_ok(f\"JupyterHub is available at http://{proxy_public_ip}\")\n",
    "            utils.print_ok(f\"JupyterHub is available at http://{fqdn}\")\n",
    "            utils.print_info(f\"You can enter any username and password to login\")\n",
    "\n"
   ]
  },
  {
   "cell_type": "markdown",
   "metadata": {},
   "source": [
    "<a id='clean'></a>\n",
    "### 🗑️ Clean up resources\n",
    "When you're finished with the lab, you should remove all your deployed resources from Azure to avoid extra charges and keep your Azure subscription uncluttered. Use the [clean-up-resources notebook](clean-up-resources.ipynb) for that."
   ]
  }
 ],
 "metadata": {
  "kernelspec": {
   "display_name": "Python 3",
   "language": "python",
   "name": "python3"
  },
  "language_info": {
   "codemirror_mode": {
    "name": "ipython",
    "version": 3
   },
   "file_extension": ".py",
   "mimetype": "text/x-python",
   "name": "python",
   "nbconvert_exporter": "python",
   "pygments_lexer": "ipython3",
   "version": "3.12.6"
  }
 },
 "nbformat": 4,
 "nbformat_minor": 2
}
