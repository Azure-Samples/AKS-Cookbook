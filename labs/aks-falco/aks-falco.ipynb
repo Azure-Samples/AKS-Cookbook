{
 "cells": [
  {
   "cell_type": "markdown",
   "metadata": {},
   "source": [
    "# AKS Cookbook\n",
    "\n",
    "## 🧪 AI-Driven Security Threat Detection and Response in AKS\n",
    "\n",
    "![visual](visual.png)\n",
    "\n",
    "This lab is designed to assist engineers in setting up an AI-driven security threat detection and response system within an Azure Kubernetes Service (AKS) environment. This document includes CLI commands, code snippets, and configuration details to ensure smooth implementation and robust security monitoring.  \n",
    "This lab based on this [public GitHub repo](https://github.com/gkaleta/AI-Driven-Security-Threat-Detection-and-Response-in-Kubernetes-on-Azure).\n",
    "\n",
    "▶️ Click on the `Run All` button to execute all the subsequent steps in sequence, or run each step individually by executing the cells one at a time.\n",
    "\n",
    "### TOC\n",
    "\n",
    "- [0️⃣ Initialize notebook variables](#0)\n",
    "- [1️⃣ Verify the Azure CLI and connected Azure subscription](#1)\n",
    "- [2️⃣ Create a new Azure Resource Group or reuse an existing one](#2)\n",
    "- [3️⃣ Create an AKS cluster with an ACR attached](#3)\n",
    "- [4️⃣ Connect to the AKS cluster](#4)\n",
    "- [5️⃣ Add Falco Helm Repository](#5)\n",
    "- [6️⃣ Install Falco](#6)\n",
    "- [7️⃣ Verify Falco Installation](#7)\n",
    "- [8️⃣ Develop AI Model (using TensorFlow)](#8)\n",
    "- [9️⃣ Deploy the AI Model to AKS](#9)\n",
    "- [🗑️ Clean up resources](#clean)\n"
   ]
  },
  {
   "cell_type": "markdown",
   "metadata": {},
   "source": [
    "<a id='0'></a>\n",
    "### 0️⃣ Initialize notebook variables\n",
    "Adjust the location parameters according your preferences and on the [product availability by Azure region](https://azure.microsoft.com/en-us/explore/global-infrastructure/products-by-region/?cdn=disable)."
   ]
  },
  {
   "cell_type": "code",
   "execution_count": null,
   "metadata": {},
   "outputs": [],
   "source": [
    "import os, time, json, requests, utils\n",
    "\n",
    "create_resources = True # specify True if you want to create new resources, False to use existing ones\n",
    "\n",
    "if create_resources:\n",
    "    # create new resources with the following properties\n",
    "    deployment_name = os.path.basename(os.path.dirname(globals()['__vsc_ipynb_file__']))\n",
    "    resource_group_name = f\"lab-{deployment_name}\" # change the name to match your naming convention\n",
    "    resource_group_location = \"eastus2\"\n",
    "    acr_prefix_name = \"acr\"\n",
    "    aks_resource_name = \"aks-cluster\"\n",
    "    aks_node_count = 1\n",
    "else:\n",
    "    # or use the following existing resources\n",
    "    resource_group_name = \"\"\n",
    "    acr_resource_name = \"\"\n",
    "    aks_resource_name = \"\"\n",
    "\n",
    "\n",
    "falco_ai_model_deployment = \"falco-ai-model.yaml\"\n",
    "\n",
    "utils.print_ok('Notebook initiaized')\n"
   ]
  },
  {
   "cell_type": "markdown",
   "metadata": {},
   "source": [
    "<a id='1'></a>\n",
    "### 1️⃣ Verify the Azure CLI and connected Azure subscription\n",
    "The following commands ensure that you have the latest version of the Azure CLI and relevant extensions installed while also verifying that the Azure CLI is connected to your Azure subscription."
   ]
  },
  {
   "cell_type": "code",
   "execution_count": null,
   "metadata": {},
   "outputs": [],
   "source": [
    "output = utils.run(\"az account show\", \"Retrieved az account\", \"Failed to get the current az account\")\n",
    "if output.success and output.json_data:\n",
    "    current_user = output.json_data.get('user').get('name')\n",
    "    subscription_id = output.json_data.get('id')\n",
    "    tenant_id = output.json_data.get('tenantId')\n",
    "output = utils.run(\"az provider register --namespace Microsoft.ContainerService --wait\", \"Microsoft.ContainerService registered in your subscription\", \"Failed to register Microsoft.ContainerService\")\n",
    "output = utils.run(\"az provider register --namespace Microsoft.KubernetesConfiguration --wait\", \"Microsoft.KubernetesConfiguration registered in your subscription\", \"Failed to register Microsoft.KubernetesConfiguration\")\n",
    "output = utils.run(\"az extension add --name k8s-extension\", \"az k8s-extension installed\", \"Failed to install az k8s-extension\")\n",
    "output = utils.run(\"az extension update --name k8s-extension\", \"az k8s-extension updated\", \"Failed to update az k8s-extension\")\n",
    "output = utils.run(\"az extension add --name aks-preview\", \"az aks-preview extension installed\", \"Failed to install az aks-preview extension\")\n",
    "output = utils.run(\"az extension update --name aks-preview\", \"az aks-preview extension updated\", \"Failed to update az aks-preview extension\")\n",
    "\n",
    "suffix = utils.unique_string(subscription_id + resource_group_name)\n"
   ]
  },
  {
   "cell_type": "markdown",
   "metadata": {},
   "source": [
    "<a id='2'></a>\n",
    "### 2️⃣ Create a new Azure Resource Group or reuse an existing one\n",
    "All resources deployed in this lab will be created within the designated resource group. "
   ]
  },
  {
   "cell_type": "code",
   "execution_count": null,
   "metadata": {},
   "outputs": [],
   "source": [
    "if create_resources:\n",
    "    utils.create_resource_group(create_resources, resource_group_name, resource_group_location)\n"
   ]
  },
  {
   "cell_type": "markdown",
   "metadata": {},
   "source": [
    "<a id='3'></a>\n",
    "### 3️⃣ Create an AKS cluster with an ACR attached\n",
    "The following step creates an AKS cluster using the [az aks create](https://learn.microsoft.com/en-us/cli/azure/aks?view=azure-cli-latest#az-aks-create) command. "
   ]
  },
  {
   "cell_type": "code",
   "execution_count": null,
   "metadata": {},
   "outputs": [],
   "source": [
    "if create_resources:\n",
    "    acr_resource_name = f\"{acr_prefix_name}{suffix}\"\n",
    "    output = utils.run(f\"az acr create --resource-group {resource_group_name} --name {acr_resource_name} --sku basic\", \n",
    "            f\"ACR '{acr_resource_name}' created\",\n",
    "            f\"Failed to create ACR '{acr_resource_name}\")\n",
    "    if output.success:\n",
    "        output = utils.run(f\"az aks create --resource-group {resource_group_name} --name {aks_resource_name} --node-count {aks_node_count} --enable-addons monitoring --network-policy azure --network-plugin azure --generate-ssh-keys --attach-acr {acr_resource_name}\",\n",
    "                f\"AKS cluster '{aks_resource_name}' created\",\n",
    "                f\"Failed to create AKS cluster '{aks_resource_name}'\")"
   ]
  },
  {
   "cell_type": "markdown",
   "metadata": {},
   "source": [
    "<a id='4'></a>\n",
    "### 4️⃣ Connect to the AKS cluster\n",
    "Configure kubectl to connect to your Kubernetes cluster using the [az aks get-credentials](https://learn.microsoft.com/en-us/cli/azure/aks?view=azure-cli-latest#az-aks-get-credentials) command. This command downloads credentials and configures the Kubernetes CLI to use them."
   ]
  },
  {
   "cell_type": "code",
   "execution_count": null,
   "metadata": {},
   "outputs": [],
   "source": [
    "output = utils.run(\"az aks install-cli\", \"kubectl installed\", \"Failed to install kubectl\")\n",
    "output = utils.run(f\"az aks get-credentials --resource-group {resource_group_name} --name {aks_resource_name} --overwrite-existing\",\n",
    "             f\"Credentials for AKS cluster '{aks_resource_name}' configured\",\n",
    "             f\"Failed to configure credentials for AKS cluster '{aks_resource_name}'\")\n"
   ]
  },
  {
   "cell_type": "markdown",
   "metadata": {},
   "source": [
    "<a id='5'></a>\n",
    "### 5️⃣ Add Falco Helm Repository\n",
    "\n",
    "Add the Falco repository to Helm and update your repository list.\n",
    "\n"
   ]
  },
  {
   "cell_type": "code",
   "execution_count": null,
   "metadata": {},
   "outputs": [],
   "source": [
    "! helm repo add falcosecurity https://falcosecurity.github.io/charts\n",
    "! helm repo update"
   ]
  },
  {
   "cell_type": "markdown",
   "metadata": {},
   "source": [
    "<a id='6'></a>\n",
    "### 6️⃣ Install Falco\n",
    "\n",
    "Install Falco in your AKS cluster."
   ]
  },
  {
   "cell_type": "code",
   "execution_count": null,
   "metadata": {},
   "outputs": [],
   "source": [
    "! helm install falco falcosecurity/falco --namespace falco --create-namespace"
   ]
  },
  {
   "cell_type": "markdown",
   "metadata": {},
   "source": [
    "<a id='7'></a>\n",
    "### 7️⃣ Verify Falco Installation\n",
    "\n",
    "Check that Falco is running correctly and view the logs with the following command to ensure it's monitoring your system:  \n",
    "`kubectl logs <falco-pod-name> -n falco`\n"
   ]
  },
  {
   "cell_type": "code",
   "execution_count": null,
   "metadata": {},
   "outputs": [],
   "source": [
    "! kubectl get pods -n falco\n",
    "\n",
    "# If you need custom detection rules, you can edit the Falco configuration.\n",
    "# ! kubectl edit cm falco-rules -n falco"
   ]
  },
  {
   "cell_type": "markdown",
   "metadata": {},
   "source": [
    "<a id='8'></a>\n",
    "### 8️⃣ Develop AI Model (using TensorFlow)\n",
    "\n",
    "Create and train an AI model to detect anomalies."
   ]
  },
  {
   "cell_type": "code",
   "execution_count": null,
   "metadata": {},
   "outputs": [],
   "source": [
    "import tensorflow as tf\n",
    "from tensorflow.keras import layers, models\n",
    "import numpy as np\n",
    "\n",
    "# Example: Load and preprocess data\n",
    "data = np.random.rand(1000, 20)  # Replace with actual log data\n",
    "\n",
    "# Define a simple model\n",
    "model = models.Sequential([\n",
    "    layers.Dense(64, activation='relu', input_shape=(20,)),\n",
    "    layers.Dense(32, activation='relu'),\n",
    "    layers.Dense(1, activation='sigmoid')\n",
    "])\n",
    "\n",
    "# Compile and train the model\n",
    "model.compile(optimizer='adam', loss='binary_crossentropy', metrics=['accuracy'])\n",
    "model.fit(data, np.ones((1000, 1)), epochs=10)\n",
    "\n",
    "# Save the model\n",
    "model.save('falco_anomaly_model.h5')"
   ]
  },
  {
   "cell_type": "markdown",
   "metadata": {},
   "source": [
    "<a id='9'></a>\n",
    "### 9️⃣ Deploy the AI Model to AKS"
   ]
  },
  {
   "cell_type": "code",
   "execution_count": null,
   "metadata": {},
   "outputs": [],
   "source": [
    "utils.run(f\"az acr build --image falco-ai-model:latest --resource-group {resource_group_name} --registry {acr_resource_name} --file Dockerfile . --no-logs\", \"Image was successfully built\", \"Failed to build the image\")\n",
    "\n",
    "utils.file_string_interpolation(falco_ai_model_deployment, \".\", \".temp\", acr_resource_name=acr_resource_name)\n",
    "\n",
    "utils.run(f\"kubectl apply -f .temp/{falco_ai_model_deployment}\", \"Falco AI model deployment created\", \"Failed to create Falco AI model deployment\")\n",
    "\n",
    "# Apply the network policy to enforce the rules in your AKS cluster.\n",
    "utils.run(f\"kubectl apply -f network-policy.yaml\", \"Network policy deployment created\", \"Failed to create Network policy deployment\")\n",
    "\n"
   ]
  },
  {
   "cell_type": "markdown",
   "metadata": {},
   "source": [
    "<a id='clean'></a>\n",
    "### 🗑️ Clean up resources\n",
    "When you're finished with the lab, you should remove all your deployed resources from Azure to avoid extra charges and keep your Azure subscription uncluttered. Use the [clean-up-resources notebook](clean-up-resources.ipynb) for that."
   ]
  }
 ],
 "metadata": {
  "kernelspec": {
   "display_name": "Python 3",
   "language": "python",
   "name": "python3"
  },
  "language_info": {
   "codemirror_mode": {
    "name": "ipython",
    "version": 3
   },
   "file_extension": ".py",
   "mimetype": "text/x-python",
   "name": "python",
   "nbconvert_exporter": "python",
   "pygments_lexer": "ipython3",
   "version": "3.12.6"
  }
 },
 "nbformat": 4,
 "nbformat_minor": 2
}
