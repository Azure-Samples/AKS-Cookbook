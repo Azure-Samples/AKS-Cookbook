{
 "cells": [
  {
   "cell_type": "markdown",
   "metadata": {},
   "source": [
    "# AKS Cookbook\n",
    "\n",
    "## 🧪 AKS Quickstart with Terraform lab\n",
    "\n",
    "![visual](visual.png)\n",
    "\n",
    "Use this lab to quickly provision an AKS cluster using Terraform and deploy a sample application to explore Kubernetes concepts. It's based on the official [AKS documentation](https://learn.microsoft.com/en-us/azure/aks/learn/quick-kubernetes-deploy-terraform?pivots=development-environment-azure-cli).  \n",
    "\n",
    "▶️ Click on the `Run All` button to execute all the subsequent steps in sequence, or run each step individually by executing the cells one at a time.\n",
    "\n",
    "### TOC\n",
    "\n",
    "- [0️⃣ Initialize notebook variables](#0)\n",
    "- [1️⃣ Verify the Azure CLI and connected Azure subscription](#1)\n",
    "- [2️⃣ Create a new Azure Resource Group or reuse an existing one](#2)\n",
    "- [3️⃣ Create an AKS cluster with Terraform](#3)\n",
    "- [4️⃣ Connect to the AKS cluster](#4)\n",
    "- [5️⃣ Retrieve the list of AKS cluster nodes](#5)\n",
    "- [6️⃣ Deploy the sample application](#6)\n",
    "- [7️⃣ List the Kubernetes resources created](#7)\n",
    "- [8️⃣ Test the application](#8)\n",
    "- [9️⃣ Observe the logs](#9)\n",
    "- [🗑️ Clean up resources](#clean)\n"
   ]
  },
  {
   "cell_type": "markdown",
   "metadata": {},
   "source": [
    "<a id='0'></a>\n",
    "### 0️⃣ Initialize notebook variables\n",
    "You can use this notebook with existing resources or to create the necessary resources.  \n",
    "Adjust the location parameters according your preferences and on the [product availability by Azure region](https://azure.microsoft.com/en-us/explore/global-infrastructure/products-by-region/?cdn=disable)."
   ]
  },
  {
   "cell_type": "code",
   "execution_count": null,
   "metadata": {},
   "outputs": [],
   "source": [
    "import os, time, json, requests, utils\n",
    "\n",
    "create_resources = True # specify True if you want to create new resources, False to use existing ones\n",
    "\n",
    "if create_resources:\n",
    "    # create new resources with the following properties\n",
    "    deployment_name = os.path.basename(os.path.dirname(globals()['__vsc_ipynb_file__']))\n",
    "    resource_group_name = f\"lab-{deployment_name}\" # change the name to match your naming convention\n",
    "    resource_group_location = \"uksouth\"\n",
    "    aks_prefix_name = \"aks\"\n",
    "    aks_nodepool_count = 1\n",
    "    aks_nodepool_vm_size = 'standard_d2s_v3'\n",
    "else:\n",
    "    # or use the following existing resources\n",
    "    resource_group_name = \"\"\n",
    "    aks_resource_name = \"\"\n",
    "\n",
    "utils.print_ok('Notebook initiaized')"
   ]
  },
  {
   "cell_type": "markdown",
   "metadata": {},
   "source": [
    "<a id='1'></a>\n",
    "### 1️⃣ Verify the Azure CLI and connected Azure subscription\n",
    "The following commands ensure that you have the latest version of the Azure CLI and relevant extensions installed while also verifying that the Azure CLI is connected to your Azure subscription."
   ]
  },
  {
   "cell_type": "code",
   "execution_count": null,
   "metadata": {},
   "outputs": [],
   "source": [
    "output = utils.run(\"az account show\", \"Retrieved az account\", \"Failed to get the current az account\")\n",
    "if output.success and output.json_data:\n",
    "    current_user = output.json_data['user']['name']\n",
    "    subscription_name = output.json_data['name']\n",
    "    utils.print_info(f\"Current Azure subscription: {subscription_name}\")\n",
    "    subscription_id = output.json_data['id']\n",
    "    tenant_id = output.json_data['tenantId']\n",
    "output = utils.run(\"az provider register --namespace Microsoft.ContainerService --wait\", \"Microsoft.ContainerService registered in your subscription\", \"Failed to register Microsoft.ContainerService\")\n",
    "output = utils.run(\"az provider register --namespace Microsoft.KubernetesConfiguration --wait\", \"Microsoft.KubernetesConfiguration registered in your subscription\", \"Failed to register Microsoft.KubernetesConfiguration\")\n",
    "output = utils.run(\"az extension add --name k8s-extension\", \"az k8s-extension installed\", \"Failed to install az k8s-extension\")\n",
    "output = utils.run(\"az extension update --name k8s-extension\", \"az k8s-extension updated\", \"Failed to update az k8s-extension\")\n",
    "output = utils.run(\"az extension add --name aks-preview\", \"az aks-preview extension installed\", \"Failed to install az aks-preview extension\")\n",
    "output = utils.run(\"az extension update --name aks-preview\", \"az aks-preview extension updated\", \"Failed to update az aks-preview extension\")\n"
   ]
  },
  {
   "cell_type": "markdown",
   "metadata": {},
   "source": [
    "<a id='2'></a>\n",
    "### 2️⃣ Create an AKS cluster with Terraform\n",
    "All resources deployed in this lab will be created within the designated resource group.   \n",
    "The following step creates an AKS cluster using Terraform. "
   ]
  },
  {
   "cell_type": "code",
   "execution_count": null,
   "metadata": {},
   "outputs": [],
   "source": [
    "# Intialize terraform\n",
    "! terraform init -upgrade\n"
   ]
  },
  {
   "cell_type": "code",
   "execution_count": null,
   "metadata": {},
   "outputs": [],
   "source": [
    "# Create a Terraform execution plan\n",
    "! terraform plan -var resource_group_name={resource_group_name} -var resource_group_location={resource_group_location} -var aks_prefix_name={aks_prefix_name} -var aks_nodepool_count={aks_nodepool_count} -var aks_nodepool_vm_size={aks_nodepool_vm_size} -out main.tfplan\n"
   ]
  },
  {
   "cell_type": "code",
   "execution_count": null,
   "metadata": {},
   "outputs": [],
   "source": [
    "# Apply the Terraform execution plan\n",
    "! terraform apply main.tfplan\n"
   ]
  },
  {
   "cell_type": "markdown",
   "metadata": {},
   "source": [
    "<a id='3'></a>\n",
    "### 3️⃣ Retrieve deployment outputs"
   ]
  },
  {
   "cell_type": "code",
   "execution_count": null,
   "metadata": {},
   "outputs": [],
   "source": [
    "if create_resources:\n",
    "    # retrieve terraform outputs\n",
    "    output = utils.run(f\"terraform output -json\")\n",
    "    if output.success and output.json_data:\n",
    "        aks_resource_name = output.json_data['kubernetes_cluster_name']['value']\n",
    "        utils.print_info(f\"AKS resource name: {aks_resource_name}\")\n"
   ]
  },
  {
   "cell_type": "markdown",
   "metadata": {},
   "source": [
    "<a id='4'></a>\n",
    "### 4️⃣ Connect to the AKS cluster\n",
    "Configure kubectl to connect to your Kubernetes cluster using the [az aks get-credentials](https://learn.microsoft.com/en-us/cli/azure/aks?view=azure-cli-latest#az-aks-get-credentials) command. This command downloads credentials and configures the Kubernetes CLI to use them."
   ]
  },
  {
   "cell_type": "code",
   "execution_count": null,
   "metadata": {},
   "outputs": [],
   "source": [
    "output = utils.run(f\"az aks get-credentials --resource-group {resource_group_name} --name {aks_resource_name} --overwrite-existing\",\n",
    "             f\"Credentials for AKS cluster '{aks_resource_name}' configured\",\n",
    "             f\"Failed to configure credentials for AKS cluster '{aks_resource_name}'\")\n"
   ]
  },
  {
   "cell_type": "markdown",
   "metadata": {},
   "source": [
    "<a id='5'></a>\n",
    "### 5️⃣ Retrieve the list of AKS cluster nodes\n",
    "Verify the connection to your cluster using the [kubectl get](https://kubernetes.io/docs/reference/generated/kubectl/kubectl-commands#get) command. This command returns a list of the cluster nodes."
   ]
  },
  {
   "cell_type": "code",
   "execution_count": null,
   "metadata": {},
   "outputs": [],
   "source": [
    "! kubectl get nodes"
   ]
  },
  {
   "cell_type": "markdown",
   "metadata": {},
   "source": [
    "<a id='6'></a>\n",
    "### 6️⃣ Deploy the sample application\n",
    "To deploy the application, you use a manifest file to create all the objects required to run the [AKS Store application](https://github.com/Azure-Samples/aks-store-demo). A [Kubernetes manifest file](https://learn.microsoft.com/en-us/azure/aks/core-aks-concepts#deployments-and-yaml-manifests) defines a cluster's desired state, such as which container images to run.  \n",
    "  \n",
    "The manifest includes the following Kubernetes deployments and services:\n",
    "- Store front: Web application for customers to view products and place orders.\n",
    "- Product service: Shows product information.\n",
    "- Order service: Places orders.\n",
    "- Rabbit MQ: Message queue for an order queue.\n",
    "\n",
    "Review the [sample manifest file](aks-store-quickstart.yaml) that will be used in the following command. "
   ]
  },
  {
   "cell_type": "code",
   "execution_count": null,
   "metadata": {},
   "outputs": [],
   "source": [
    "! kubectl apply -f aks-store-quickstart.yaml\n"
   ]
  },
  {
   "cell_type": "markdown",
   "metadata": {},
   "source": [
    "<a id='7'></a>\n",
    "### 7️⃣ List the Kubernetes resources created\n",
    "The following commands list the deployed pods and services in the AKS cluster."
   ]
  },
  {
   "cell_type": "code",
   "execution_count": null,
   "metadata": {},
   "outputs": [],
   "source": [
    "output = utils.run(\"kubectl get pods -n default\", \"Pods in the default namespace\", \"Failed to get pods in the default namespace\")\n",
    "print(output.text) \n",
    "\n",
    "output = utils.run(\"kubectl get service -n default\", \"Services in the default namespace\", \"Failed to get services in the default namespace\")\n",
    "print(output.text) \n"
   ]
  },
  {
   "cell_type": "markdown",
   "metadata": {},
   "source": [
    "<a id='8'></a>\n",
    "### 8️⃣ Test the application\n",
    "The following script verifies the readiness of the `store-front` pod and retrieves the external IP address for the `store-front` service, enabling you to test the application UI."
   ]
  },
  {
   "cell_type": "code",
   "execution_count": null,
   "metadata": {},
   "outputs": [],
   "source": [
    "wait_time = 60 # in seconds\n",
    "sleep_time = 5 # in seconds\n",
    "request_timeout = 60 # in seconds\n",
    "message = \"Application is not ready yet. Check the logs.\"\n",
    "while wait_time - sleep_time > 0:\n",
    "    output = utils.run(\"kubectl get pods -l app=store-front -o jsonpath={..status.phase}\")\n",
    "    if output.success and output.text == \"Running\":\n",
    "        output = utils.run(\"kubectl get service store-front --output jsonpath={..status.loadBalancer.ingress[0]}\")\n",
    "        if output.success and output.json_data:\n",
    "            ingress_ip = output.json_data['ip']\n",
    "            utils.print_info(f\"Service External IP: {ingress_ip}\")\n",
    "            try:\n",
    "                response = requests.get(f\"http://{ingress_ip}\", timeout=request_timeout)\n",
    "                if (response.status_code == 200):\n",
    "                    utils.print_ok(f\"Application ready @ http://{ingress_ip}\")\n",
    "                    message = None\n",
    "                    break\n",
    "            except:\n",
    "                message = \"The application is currently unresponsive...\"\n",
    "    wait_time -= sleep_time\n",
    "    time.sleep(sleep_time)\n",
    "if message:\n",
    "    utils.print_warning(message)"
   ]
  },
  {
   "cell_type": "markdown",
   "metadata": {},
   "source": [
    "<a id='9'></a>\n",
    "### 9️⃣ Observe the logs\n",
    "When operating an Azure Kubernetes Service (AKS) cluster, you may need to review logs to troubleshoot a problem. Azure portal has a built-in capability that allows you to view logs for AKS main components and cluster containers.  \n",
    "The following commands display logs for each pod that is part of the sample application."
   ]
  },
  {
   "cell_type": "code",
   "execution_count": null,
   "metadata": {},
   "outputs": [],
   "source": [
    "output = utils.run(\"kubectl logs -l app=rabbitmq --tail=3\", \"Logs for the rabbitmq pod\", \"Error in logs for the rabbitmq pod\")\n",
    "print(output.text) \n",
    "\n",
    "output = utils.run(\"kubectl logs -l app=order-service --tail=3\", \"Logs for the order-service pod\", \"Error in logs for the order-service pod\")\n",
    "print(output.text) \n",
    "\n",
    "output = utils.run(\"kubectl logs -l app=product-service --tail=3\", \"Logs for the product-service pod\", \"Error in logs for the product-service pod\")\n",
    "print(output.text) \n",
    "\n",
    "output = utils.run(\"kubectl logs -l app=store-front --tail=3\", \"Logs for the store-front pod\", \"Error in logs for the store-front pod\")\n",
    "print(output.text) \n"
   ]
  },
  {
   "cell_type": "markdown",
   "metadata": {},
   "source": [
    "<a id='clean'></a>\n",
    "### 🗑️ Clean up resources\n",
    "When you're finished with the lab, you should remove all your deployed resources from Azure to avoid extra charges and keep your Azure subscription uncluttered. Use the [clean-up-resources notebook](clean-up-resources.ipynb) for that."
   ]
  }
 ],
 "metadata": {
  "kernelspec": {
   "display_name": "Python 3",
   "language": "python",
   "name": "python3"
  },
  "language_info": {
   "codemirror_mode": {
    "name": "ipython",
    "version": 3
   },
   "file_extension": ".py",
   "mimetype": "text/x-python",
   "name": "python",
   "nbconvert_exporter": "python",
   "pygments_lexer": "ipython3",
   "version": "3.12.6"
  }
 },
 "nbformat": 4,
 "nbformat_minor": 2
}
