{
 "cells": [
  {
   "cell_type": "markdown",
   "metadata": {},
   "source": [
    "# AKS Cookbook\n",
    "\n",
    "## 🧪 Kubeflow on AKS lab\n",
    "\n",
    "![visual](visual.png)\n",
    "\n",
    "The Kubeflow project is dedicated to making deployments of machine learning (ML) workflows on Kubernetes simple, portable and scalable.  \n",
    "In this lab you will deploy an Azure Kubernetes Service (AKS) cluster and other Azure services (Container Registry, Managed Identity, Key Vault) with Azure CLI and Bicep. You will then install Kubeflow using the default settings using Kustomize and create a jupyter notebook server you can easily access on your browser\n",
    "It's based on the Vanilla Installation [from this page](https://azure.github.io/kubeflow-aks/main/docs/deployment-options/vanilla-installation/).  \n",
    "\n",
    "▶️ Click on the `Run All` button to execute all the subsequent steps in sequence, or run each step individually by executing the cells one at a time.\n",
    "\n",
    "### TOC\n",
    "\n",
    "- [0️⃣ Initialize notebook variables](#0)\n",
    "- [1️⃣ Verify the Azure CLI and connected Azure subscription](#1)\n",
    "- [2️⃣ Create Kubeflow deployment with BICEP 🦾](#2)\n",
    "- [3️⃣ Retrieve deployment outputs](#3)\n",
    "- [4️⃣ Connect to the AKS cluster](#4)\n",
    "- [5️⃣ Retrieve the list of AKS cluster nodes](#5)\n",
    "- [6️⃣ Deploy Kubeflow without TLS using Default Password](#6)\n",
    "- [7️⃣ Check the status of the pods created](#7)\n",
    "- [8️⃣ Access the Kubeflow dashboard with a port forward](#8)\n",
    "- [🗑️ Clean up resources](#clean)\n"
   ]
  },
  {
   "cell_type": "markdown",
   "metadata": {},
   "source": [
    "<a id='0'></a>\n",
    "### 0️⃣ Initialize notebook variables\n",
    "You can use this notebook with existing resources or to create the necessary resources.  \n",
    "Adjust the location parameters according your preferences and on the [product availability by Azure region](https://azure.microsoft.com/en-us/explore/global-infrastructure/products-by-region/?cdn=disable)."
   ]
  },
  {
   "cell_type": "code",
   "execution_count": null,
   "metadata": {},
   "outputs": [],
   "source": [
    "import os, time, json, requests, shutil, utils\n",
    "\n",
    "create_resources = True # specify True if you want to create new resources, False to use existing ones\n",
    "\n",
    "if create_resources:\n",
    "    # create new resources with the following properties\n",
    "    deployment_name = os.path.basename(os.path.dirname(globals()['__vsc_ipynb_file__']))\n",
    "    resource_group_name = f\"lab-{deployment_name}\" # change the name to match your naming convention\n",
    "    resource_group_location = \"eastus2\"\n",
    "else:\n",
    "    # or use the following existing resources\n",
    "    resource_group_name = \"\"\n",
    "    aks_resource_name = \"\"\n",
    "\n",
    "utils.print_ok('Notebook initiaized')"
   ]
  },
  {
   "cell_type": "markdown",
   "metadata": {},
   "source": [
    "<a id='1'></a>\n",
    "### 1️⃣ Verify the Azure CLI and connected Azure subscription\n",
    "The following commands ensure that you have the latest version of the Azure CLI and relevant extensions installed while also verifying that the Azure CLI is connected to your Azure subscription."
   ]
  },
  {
   "cell_type": "code",
   "execution_count": null,
   "metadata": {},
   "outputs": [],
   "source": [
    "output = utils.run(\"az account show\", \"Retrieved az account\", \"Failed to get the current az account\")\n",
    "if output.success and output.json_data:\n",
    "    current_user = output.json_data['user']['name']\n",
    "    subscription_id = output.json_data['id']\n",
    "    tenant_id = output.json_data['tenantId']\n",
    "\n",
    "output = utils.run(\"az ad signed-in-user show\", \"Retrieved signed-in-user\", \"Failed to get signed-in-user\")\n",
    "if output.success and output.json_data:\n",
    "    signed_in_user_id = output.json_data['id']\n",
    "    utils.print_info(f\"Signed-in User Id: {signed_in_user_id}\")\n",
    "\n",
    "output = utils.run(\"az provider register --namespace Microsoft.ContainerService --wait\", \"Microsoft.ContainerService registered in your subscription\", \"Failed to register Microsoft.ContainerService\")\n",
    "output = utils.run(\"az provider register --namespace Microsoft.KubernetesConfiguration --wait\", \"Microsoft.KubernetesConfiguration registered in your subscription\", \"Failed to register Microsoft.KubernetesConfiguration\")\n",
    "output = utils.run(\"az extension add --name k8s-extension\", \"az k8s-extension installed\", \"Failed to install az k8s-extension\")\n",
    "output = utils.run(\"az extension update --name k8s-extension\", \"az k8s-extension updated\", \"Failed to update az k8s-extension\")\n",
    "output = utils.run(\"az extension add --name aks-preview\", \"az aks-preview extension installed\", \"Failed to install az aks-preview extension\")\n",
    "output = utils.run(\"az extension update --name aks-preview\", \"az aks-preview extension updated\", \"Failed to update az aks-preview extension\")\n"
   ]
  },
  {
   "cell_type": "markdown",
   "metadata": {},
   "source": [
    "<a id='2'></a>\n",
    "### 2️⃣ Create Kubeflow deployment with BICEP 🦾\n",
    "All resources deployed in this lab will be created within the designated resource group.   \n",
    "The following step creates an AKS cluster using a BICEP deployment. "
   ]
  },
  {
   "cell_type": "code",
   "execution_count": null,
   "metadata": {},
   "outputs": [],
   "source": [
    "if not os.path.exists(\".temp/kubeflow-aks\"):\n",
    "    utils.run(\"git clone --recurse-submodules https://github.com/Azure/kubeflow-aks.git .temp/kubeflow-aks\", \"Cloned kubeflow-aks repo\", \"Failed to clone kubeflow-aks repo\")\n",
    "if not os.path.exists(\".temp/kubeflow-aks/manifests/vanilla\"):\n",
    "    shutil.copytree('.temp/kubeflow-aks/deployments/vanilla', '.temp/kubeflow-aks/manifests/vanilla') \n",
    "\n",
    "if create_resources:\n",
    "    utils.create_resource_group(create_resources, resource_group_name, resource_group_location)\n",
    "    bicep_parameters = {\n",
    "        \"$schema\": \"https://schema.management.azure.com/schemas/2019-04-01/deploymentParameters.json#\",\n",
    "        \"contentVersion\": \"1.0.0.0\",\n",
    "        \"parameters\": {\n",
    "            \"signedinuser\": { \"value\": signed_in_user_id }\n",
    "        }\n",
    "    }    \n",
    "    with open('params.json', 'w') as bicep_parameters_file:\n",
    "        bicep_parameters_file.write(json.dumps(bicep_parameters))\n",
    "\n",
    "    output = utils.run(f\"az deployment group create --name {deployment_name} --resource-group {resource_group_name} --template-file .temp/kubeflow-aks/main.bicep --parameters params.json\", \n",
    "                 f\"Deployment '{deployment_name}' succeeded\", f\"Deployment '{deployment_name}' failed\")\n"
   ]
  },
  {
   "cell_type": "markdown",
   "metadata": {},
   "source": [
    "<a id='3'></a>\n",
    "### 3️⃣ Retrieve deployment outputs"
   ]
  },
  {
   "cell_type": "code",
   "execution_count": null,
   "metadata": {},
   "outputs": [],
   "source": [
    "if create_resources:\n",
    "    # retrieve deployment outputs\n",
    "    output = utils.run(f\"az deployment group show --name {deployment_name} -g {resource_group_name}\", f\"Retrieved deployment: {deployment_name}\", f\"Failed to retrieve deployment: {deployment_name}\")\n",
    "    if output.success and output.json_data:\n",
    "        kv_resource_name = utils.get_deployment_output(output, 'kvAppName', 'KeyVault resource name')\n",
    "        aks_resource_name = utils.get_deployment_output(output, 'aksClusterName', 'AKS resource name')\n",
    "\n",
    "output = utils.run(f\"az acr list -g {resource_group_name} --only-show-errors\", \"Retrieved ACR name\", \"Failed to retrieve ACR name\")\n",
    "if output.success and output.json_data:\n",
    "    acr_resource_name = output.json_data[0]['name']\n",
    "\n"
   ]
  },
  {
   "cell_type": "markdown",
   "metadata": {},
   "source": [
    "<a id='4'></a>\n",
    "### 4️⃣ Connect to the AKS cluster\n",
    "Configure kubectl to connect to your Kubernetes cluster using the [az aks get-credentials](https://learn.microsoft.com/en-us/cli/azure/aks?view=azure-cli-latest#az-aks-get-credentials) command. This command downloads credentials and configures the Kubernetes CLI to use them."
   ]
  },
  {
   "cell_type": "code",
   "execution_count": null,
   "metadata": {},
   "outputs": [],
   "source": [
    "output = utils.run(f\"az aks get-credentials --resource-group {resource_group_name} --name {aks_resource_name} --overwrite-existing\",\n",
    "             f\"Credentials for AKS cluster '{aks_resource_name}' configured\",\n",
    "             f\"Failed to configure credentials for AKS cluster '{aks_resource_name}'\")\n",
    "\n",
    "output = utils.run(\"kubelogin convert-kubeconfig -l azurecli\", \"kubelogin succeeded\", \"Failed to run kubelogin\")\n"
   ]
  },
  {
   "cell_type": "markdown",
   "metadata": {},
   "source": [
    "<a id='5'></a>\n",
    "### 5️⃣ Retrieve the list of AKS cluster nodes\n",
    "Verify the connection to your cluster using the [kubectl get](https://kubernetes.io/docs/reference/generated/kubectl/kubectl-commands#get) command. This command returns a list of the cluster nodes."
   ]
  },
  {
   "cell_type": "code",
   "execution_count": null,
   "metadata": {},
   "outputs": [],
   "source": [
    "! kubectl get nodes"
   ]
  },
  {
   "cell_type": "markdown",
   "metadata": {},
   "source": [
    "<a id='6'></a>\n",
    "### 6️⃣ Deploy Kubeflow without TLS using Default Password"
   ]
  },
  {
   "cell_type": "code",
   "execution_count": null,
   "metadata": {},
   "outputs": [],
   "source": [
    "! kubectl apply -k .temp/kubeflow-aks/manifests/vanilla\n"
   ]
  },
  {
   "cell_type": "markdown",
   "metadata": {},
   "source": [
    "<a id='7'></a>\n",
    "### 7️⃣ Check the status of the pods created\n"
   ]
  },
  {
   "cell_type": "code",
   "execution_count": null,
   "metadata": {},
   "outputs": [],
   "source": [
    "! kubectl get pods -n cert-manager\n",
    "! kubectl get pods -n istio-system\n",
    "! kubectl get pods -n auth\n",
    "! kubectl get pods -n knative-eventing\n",
    "! kubectl get pods -n knative-serving\n",
    "! kubectl get pods -n kubeflow\n",
    "! kubectl get pods -n kubeflow-user-example-com"
   ]
  },
  {
   "cell_type": "markdown",
   "metadata": {},
   "source": [
    "<a id='8'></a>\n",
    "### 8️⃣ Access the Kubeflow dashboard with a port forward\n",
    "\n",
    "Run kubectl port-forward to access the Kubeflow dashboard\n",
    "\n"
   ]
  },
  {
   "cell_type": "code",
   "execution_count": null,
   "metadata": {},
   "outputs": [],
   "source": [
    "! kubectl port-forward svc/istio-ingressgateway -n istio-system 8080:80\n",
    "\n",
    "utils.print_ok(f\"Kubeflow UI is available at http://localhost:8080\")\n",
    "utils.print_info('The default email address is user@example.com and the default password is 12341234')"
   ]
  },
  {
   "cell_type": "markdown",
   "metadata": {},
   "source": [
    "<a id='clean'></a>\n",
    "### 🗑️ Clean up resources\n",
    "When you're finished with the lab, you should remove all your deployed resources from Azure to avoid extra charges and keep your Azure subscription uncluttered. Use the [clean-up-resources notebook](clean-up-resources.ipynb) for that."
   ]
  }
 ],
 "metadata": {
  "kernelspec": {
   "display_name": "Python 3",
   "language": "python",
   "name": "python3"
  },
  "language_info": {
   "codemirror_mode": {
    "name": "ipython",
    "version": 3
   },
   "file_extension": ".py",
   "mimetype": "text/x-python",
   "name": "python",
   "nbconvert_exporter": "python",
   "pygments_lexer": "ipython3",
   "version": "3.12.6"
  }
 },
 "nbformat": 4,
 "nbformat_minor": 2
}
