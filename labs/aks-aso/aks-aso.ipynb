{
 "cells": [
  {
   "cell_type": "markdown",
   "metadata": {},
   "source": [
    "# AKS Cookbook\n",
    "\n",
    "## 🧪 Azure Service Operator on AKS\n",
    "\n",
    "![visual](visual.png)\n",
    "\n",
    "Azure Service Operator (ASO) allows you to deploy and maintain a wide variety of Azure Resources using the Kubernetes tooling you already know and use.\n",
    "\n",
    "Instead of deploying and managing your Azure resources separately from your Kubernetes application, ASO allows you to manage them together, automatically configuring your application as needed.\n",
    "For example, ASO can set up your Redis Cache or PostgreSQL database server and then configure your Kubernetes application to use them.\n",
    "\n",
    "### TOC\n",
    "- [0️⃣ Initialize notebook variables](#0)\n",
    "- [1️⃣ Set your Azure Subscription](#1)\n",
    "- [2️⃣ Get AKS credentials and verify the connection](#2)\n",
    "- [3️⃣ Install and verify cert-manager on the cluster](#3)\n",
    "- [4️⃣ Create a Service Principal](#4)\n",
    "- [5️⃣ Create the Azure Service Operator namespaced secret](#5)\n",
    "- [6️⃣ Install latest v2+ Helm ASO chart and include the CRDs](#6)\n",
    "- [7️⃣ Create a new Azure Resource with ASO](#7)\n",
    "- [🗑️ Clean up resources](#clean)"
   ]
  },
  {
   "cell_type": "markdown",
   "metadata": {},
   "source": [
    "<a id='0'></a>\n",
    "### 0️⃣ Initialize notebook variables\n",
    "\n",
    "- Resources will be suffixed by a unique string based on your subscription id.\n",
    "- Provide either the tenant and the subscription IDs, before running the lab.\n",
    "- Adjust the location parameters according your preferences and on the [product availability by Azure region](https://azure.microsoft.com/en-us/explore/global-infrastructure/products-by-region/?cdn=disable&products=cognitive-services,api-management).\n",
    "- Check your aks cluster name. If you want to create a new AKS cluster, please refer to this [Jupyter notebook](new-aks-cluster.ipynb)"
   ]
  },
  {
   "cell_type": "code",
   "execution_count": null,
   "metadata": {},
   "outputs": [],
   "source": [
    "import os\n",
    "\n",
    "deployment_name = os.path.basename(os.path.dirname(globals()['__vsc_ipynb_file__']))\n",
    "resource_group_name = f\"lab-{deployment_name}\" # change the name to match your naming style\n",
    "resource_group_location = \"eastus2\"\n",
    "tenant_id = \"<tenant_id>\"\n",
    "subscription_id = \"<subscription_id>\"\n",
    "aks_resource_name = \"aks-service-operator\"\n",
    "cert_manager_yaml = \"https://github.com/jetstack/cert-manager/releases/download/v1.14.1/cert-manager.yaml\"\n",
    "crd_pattern = \"resources.azure.com/ResourceGroup\""
   ]
  },
  {
   "cell_type": "markdown",
   "metadata": {},
   "source": [
    "<a id='1'></a>\n",
    "### 1️⃣ Set your Azure Subscription\n",
    "Use this step to specify which Azure tenant and subscription should be used for subsequent Azure CLI commands."
   ]
  },
  {
   "cell_type": "code",
   "execution_count": null,
   "metadata": {},
   "outputs": [],
   "source": [
    "! az login --tenant {tenant_id}\n",
    "! az account set --subscription {subscription_id}"
   ]
  },
  {
   "cell_type": "markdown",
   "metadata": {},
   "source": [
    "<a id='2'></a>\n",
    "### 2️⃣ Get AKS credentials and verify the connection.\n",
    "You need kubelogin credential plugin installed - see https://github.com/Azure/kubelogin."
   ]
  },
  {
   "cell_type": "code",
   "execution_count": null,
   "metadata": {},
   "outputs": [],
   "source": [
    "! az aks get-credentials --resource-group {resource_group_name} --name {aks_resource_name} --overwrite-existing"
   ]
  },
  {
   "cell_type": "markdown",
   "metadata": {},
   "source": [
    "<a id='3'></a>\n",
    "### 3️⃣ Install and verify cert-manager on the cluster.\n",
    "cert-manager is a powerful and extensible X.509 certificate controller for Kubernetes and OpenShift workloads. It will obtain certificates from a variety of Issuers, both popular public Issuers as well as private Issuers, and ensure the certificates are valid and up-to-date, and will attempt to renew certificates at a configured time before expiry."
   ]
  },
  {
   "cell_type": "code",
   "execution_count": null,
   "metadata": {},
   "outputs": [],
   "source": [
    "! kubectl apply -f {cert_manager_yaml}\n",
    "\n",
    "# Check the cert-manager pods have started successfully before proceeding.\n",
    "! kubectl get pods -n cert-manager"
   ]
  },
  {
   "cell_type": "markdown",
   "metadata": {},
   "source": [
    "<a id='4'></a>\n",
    "### 4️⃣ Create a Service Principal\n",
    "This identity or service principal will be used by ASO to authenticate with Azure. You'll need this to grant the identity or Service Principal permissions to create resources in your subscription."
   ]
  },
  {
   "cell_type": "code",
   "execution_count": null,
   "metadata": {},
   "outputs": [],
   "source": [
    "import re  \n",
    "import json\n",
    "\n",
    "# Function to run shell commands  \n",
    "def run_command(command):\n",
    "    print(f\"Running command: {command}\")\n",
    "    try:\n",
    "        output = subprocess.check_output(command, shell=True, stderr=subprocess.STDOUT)\n",
    "        return True, output.decode(\"utf-8\")  \n",
    "    except subprocess.CalledProcessError as e:  \n",
    "        return False, e.output.decode(\"utf-8\")\n",
    "\n",
    "def extract_json_from_string(output_str):  \n",
    "    # Define the regular expression pattern to match JSON objects  \n",
    "    json_pattern = r'\\{[\\s\\S]*\\}'\n",
    "    \n",
    "    # Search for the JSON object in the string  \n",
    "    match = re.search(json_pattern, output_str)\n",
    "      \n",
    "    if match:\n",
    "        json_str = match.group(0)\n",
    "        try:\n",
    "            json_data = json.loads(json_str)\n",
    "            return json_data  \n",
    "        except json.JSONDecodeError as e:  \n",
    "            print(f\"Failed to parse JSON. Error: {e}\")  \n",
    "            return None  \n",
    "    else:  \n",
    "        print(\"No JSON object found in the input string.\")  \n",
    "        return None  \n",
    "\n",
    "# Create a service principal  \n",
    "success, sp_output = run_command(f\"az ad sp create-for-rbac -n azure-service-operator --role contributor --scopes /subscriptions/{subscription_id}\")\n",
    "\n",
    "if success:\n",
    "    sp_data = extract_json_from_string(sp_output)  \n",
    "    \n",
    "    print(\"Service principal created successfully.\", sp_data)\n",
    "    \n",
    "    # Extract the appId and password\n",
    "    client_id = sp_data[\"appId\"]\n",
    "    client_secret = sp_data[\"password\"]\n",
    "\n",
    "    # Export the environment variables\n",
    "    os.environ[\"AZURE_CLIENT_ID\"] = client_id\n",
    "    os.environ[\"AZURE_CLIENT_SECRET\"] = client_secret\n",
    "    os.environ[\"AZURE_SUBSCRIPTION_ID\"] = subscription_id\n",
    "    os.environ[\"AZURE_TENANT_ID\"] = tenant_id\n",
    "else:  \n",
    "    print(\"Failed to create service principal. Error:\", sp_output)"
   ]
  },
  {
   "cell_type": "markdown",
   "metadata": {},
   "source": [
    "<a id='5'></a>\n",
    "### 5️⃣ Create the Azure Service Operator namespaced secret\n",
    "The secret must be named **aso-credential** and be created in the namespace you’d like to create ASO resources in."
   ]
  },
  {
   "cell_type": "code",
   "execution_count": null,
   "metadata": {},
   "outputs": [],
   "source": [
    "import os\n",
    "import subprocess\n",
    "\n",
    "# Ensure the environment variables are set  \n",
    "required_vars = [\"AZURE_SUBSCRIPTION_ID\", \"AZURE_TENANT_ID\", \"AZURE_CLIENT_ID\", \"AZURE_CLIENT_SECRET\"]\n",
    "missing_vars = [var for var in required_vars if not os.getenv(var)]\n",
    "\n",
    "if missing_vars:\n",
    "    print(f\"One or more required environment variables are not set: {', '.join(missing_vars)}\")\n",
    "else:\n",
    "    # Read the secret template\n",
    "    with open(\"secret.yaml\", \"r\") as file:\n",
    "        secret_template = file.read()\n",
    "\n",
    "    # Replace placeholders with actual values\n",
    "    secret_content = secret_template.replace(\"$AZURE_SUBSCRIPTION_ID\", os.getenv(\"AZURE_SUBSCRIPTION_ID\")).replace(\"$AZURE_TENANT_ID\", os.getenv(\"AZURE_TENANT_ID\")).replace(\"$AZURE_CLIENT_ID\", os.getenv(\"AZURE_CLIENT_ID\")).replace(\"$AZURE_CLIENT_SECRET\", os.getenv(\"AZURE_CLIENT_SECRET\"))\n",
    "\n",
    "    # Write the updated content to a new file\n",
    "    with open(\"secret_applied.yaml\", \"w\") as file:\n",
    "        file.write(secret_content)\n",
    "\n",
    "    # Apply the secret using kubectl\n",
    "    apply_command = \"kubectl apply -f secret_applied.yaml\"\n",
    "    result = subprocess.run(apply_command, shell=True, capture_output=True, text=True)\n",
    "\n",
    "    # Print the result\n",
    "    if result.returncode == 0:\n",
    "        print(\"Secret applied successfully.\")\n",
    "        print(result.stdout)\n",
    "    else:\n",
    "        print(\"Failed to apply the secret.\")\n",
    "        print(result.stderr)\n",
    "        \n",
    "! kubectl get pods -n azureserviceoperator-system"
   ]
  },
  {
   "cell_type": "markdown",
   "metadata": {},
   "source": [
    "<a id='6'></a>\n",
    "### 6️⃣ Install latest v2+ Helm ASO chart and include the CRDs\n",
    "\n",
    "Include (Custom Resource Definitions) you are interested in using. You can use **--set crdPattern=*** to install all the CRDs, but be aware of the limits of the Kubernetes you are running."
   ]
  },
  {
   "cell_type": "code",
   "execution_count": null,
   "metadata": {},
   "outputs": [],
   "source": [
    "import subprocess  \n",
    "import json  \n",
    "import os  \n",
    " \n",
    "# Function to run shell commands  \n",
    "def run_command(command):  \n",
    "    print(f\"Running command: {command}\")  \n",
    "    try:  \n",
    "        output = subprocess.check_output(command, shell=True, stderr=subprocess.STDOUT)  \n",
    "        return True, output.decode(\"utf-8\")  \n",
    "    except subprocess.CalledProcessError as e:  \n",
    "        return False, e.output.decode(\"utf-8\")  \n",
    "    \n",
    "service_principal_id = os.environ[\"AZURE_CLIENT_ID\"]\n",
    "\n",
    "! helm repo add aso2 https://raw.githubusercontent.com/Azure/azure-service-operator/main/v2/charts\n",
    "! helm upgrade --install aso2 aso2/azure-service-operator --create-namespace --namespace=azureserviceoperator-system --set crdPattern={crd_pattern}\n",
    "\n",
    "# Once the Azure Service Operator is installed, you can check the status of the pods in the 'azureserviceoperator-system' namespace.\n",
    "success, pod_output = run_command(\"kubectl get pods -n azureserviceoperator-system -o json\")\n",
    "if success:\n",
    "    pods = json.loads(pod_output)  \n",
    "    pod_name = None  \n",
    "    for pod in pods[\"items\"]:  \n",
    "        if \"azureserviceoperator-controller-manager\" in pod[\"metadata\"][\"name\"]:  \n",
    "            pod_name = pod[\"metadata\"][\"name\"]\n",
    "            break  \n",
    "    if pod_name:  \n",
    "        print(f\"Pod name: {pod_name}\")\n",
    "          \n",
    "        # To view the logs for the running ASO controller, take note of the pod name shown above and then run the following command.\n",
    "        log_command = f\"kubectl logs -n azureserviceoperator-system {pod_name} manager\"\n",
    "        success, logs_output = run_command(log_command)\n",
    "        if success:\n",
    "            print(f\"Logs:\\n{logs_output}\")\n",
    "        else:\n",
    "            print(f\"Failed to retrieve logs. Error:\\n{logs_output}\")\n",
    "    else:\n",
    "        print(\"No matching pod found.\")\n",
    "else:\n",
    "    print(f\"Failed to get pods. Error:\\n{pod_output}\")"
   ]
  },
  {
   "cell_type": "markdown",
   "metadata": {},
   "source": [
    "<a id='7'></a>\n",
    "### 7️⃣ Create a new Azure Resource with ASO\n",
    "Let’s create an **Azure Resource Group** in a specified location with the name \"aso-sample-rg\"."
   ]
  },
  {
   "cell_type": "code",
   "execution_count": null,
   "metadata": {},
   "outputs": [],
   "source": [
    "! kubectl apply -f \"rg.yaml\"\n",
    "! kubectl describe resourcegroups/aso-sample-rg"
   ]
  }
 ],
 "metadata": {
  "kernelspec": {
   "display_name": "Python 3",
   "language": "python",
   "name": "python3"
  },
  "language_info": {
   "codemirror_mode": {
    "name": "ipython",
    "version": 3
   },
   "file_extension": ".py",
   "mimetype": "text/x-python",
   "name": "python",
   "nbconvert_exporter": "python",
   "pygments_lexer": "ipython3",
   "version": "3.12.3"
  }
 },
 "nbformat": 4,
 "nbformat_minor": 2
}
