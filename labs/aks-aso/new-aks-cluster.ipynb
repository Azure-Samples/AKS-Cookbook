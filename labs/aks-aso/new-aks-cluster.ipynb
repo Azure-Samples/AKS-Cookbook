{
 "cells": [
  {
   "cell_type": "markdown",
   "metadata": {},
   "source": [
    "### TOC\n",
    "- [0️⃣ Initialize notebook variables](#0)\n",
    "- [1️⃣ Set your Azure Subscription](#1)\n",
    "- [2️⃣ Create the Azure Resource Group](#2)\n",
    "- [3️⃣ Create an SSH key pair using Azure CLI](#3)\n",
    "- [4️⃣ Create and connect to an AKS Cluster](#4)"
   ]
  },
  {
   "cell_type": "markdown",
   "metadata": {},
   "source": [
    "<a id='0'></a>\n",
    "### 0️⃣ Initialize notebook variables\n",
    "\n",
    "- Resources will be suffixed by a unique string based on your subscription id.\n",
    "- Provide either the tenant and the subscription IDs, before running the lab.\n",
    "- Adjust the location parameters according your preferences and on the [product availability by Azure region](https://azure.microsoft.com/en-us/explore/global-infrastructure/products-by-region/?cdn=disable&products=cognitive-services,api-management).\n",
    "- Ensure the Nodepool VM sizes are compatible with the selected location. If 'aks_node_vm_sizes' is unspecified, the deployment process will identify three available SKUs and attempt to use the first one that successfully deploys."
   ]
  },
  {
   "cell_type": "code",
   "execution_count": null,
   "metadata": {},
   "outputs": [],
   "source": [
    "import os\n",
    "import datetime\n",
    "import json\n",
    "import subprocess\n",
    "\n",
    "deployment_name = os.path.basename(os.path.dirname(globals()['__vsc_ipynb_file__']))\n",
    "resource_group_name = f\"lab-{deployment_name}\" # change the name to match your naming style\n",
    "resource_group_location = \"eastus2\"\n",
    "tenant_id = \"<tenant_id>\"\n",
    "subscription_id = \"<subscription_id>\"\n",
    "aks_resource_name = \"<aks_resource_name>\"\n",
    "ssh_key = f\"{deployment_name}-ssh-key\"\n",
    "dns_prefix = f\"{deployment_name}-dns\"\n",
    "linux_admin_username = \"azureuser\"\n",
    "aks_node_vm_sizes = [ \"standard_d2s_v3\" ]"
   ]
  },
  {
   "cell_type": "markdown",
   "metadata": {},
   "source": [
    "<a id='1'></a>\n",
    "### 1️⃣ Set your Azure Subscription\n",
    "Use this step to specify which Azure tenant and subscription should be used for subsequent Azure CLI commands."
   ]
  },
  {
   "cell_type": "code",
   "execution_count": null,
   "metadata": {},
   "outputs": [],
   "source": [
    "! az login --tenant {tenant_id}\n",
    "! az account set --subscription {subscription_id}"
   ]
  },
  {
   "cell_type": "markdown",
   "metadata": {},
   "source": [
    "<a id='2'></a>\n",
    "### 2️⃣ Create the Azure Resource Group\n",
    "All resources deployed in this lab will be created in the specified resource group. Skip this step if you want to use an existing resource group."
   ]
  },
  {
   "cell_type": "code",
   "execution_count": null,
   "metadata": {},
   "outputs": [],
   "source": [
    "resource_group_stdout = ! az group create --name {resource_group_name} --location {resource_group_location}\n",
    "if resource_group_stdout.n.startswith(\"ERROR\"):\n",
    "    print(resource_group_stdout)\n",
    "else:\n",
    "    print(\"✅ Azure Resource Group \", resource_group_name, \" created ⌚ \", datetime.datetime.now().time())\n"
   ]
  },
  {
   "cell_type": "markdown",
   "metadata": {},
   "source": [
    "<a id='3'></a>\n",
    "### 3️⃣ Create an SSH key pair using Azure CLI"
   ]
  },
  {
   "cell_type": "code",
   "execution_count": null,
   "metadata": {},
   "outputs": [],
   "source": [
    "import os\n",
    "\n",
    "# Create an SSH key pair using Azure CLI\n",
    "! az sshkey create --name {ssh_key} --resource-group {resource_group_name}\n",
    "\n",
    "# Retrieve the SSH public key content\\n\",  \n",
    "ssh_public_key_content = ! az sshkey show --name {ssh_key} --resource-group {resource_group_name} --query publicKey -o tsv  \n",
    "ssh_public_key = ssh_public_key_content[0] if ssh_public_key_content else ''\n",
    "\n",
    "os.environ[\"SSH_PUBLIC_KEY\"] = ssh_public_key"
   ]
  },
  {
   "cell_type": "markdown",
   "metadata": {},
   "source": [
    "<a id='4'></a>\n",
    "### 4️⃣ Create and connect to an AKS Cluster"
   ]
  },
  {
   "cell_type": "code",
   "execution_count": null,
   "metadata": {},
   "outputs": [],
   "source": [
    "def run_command(command):\n",
    "    try:\n",
    "        output = subprocess.check_output(command, shell=True, stderr=subprocess.STDOUT)\n",
    "        return True, output.decode(\"utf-8\")\n",
    "    except subprocess.CalledProcessError as e:\n",
    "        return False, e.output.decode(\"utf-8\")\n",
    "    \n",
    "# Check if aks_node_vm_sizes is set  \n",
    "try:  \n",
    "    aks_node_vm_sizes  \n",
    "except NameError:  \n",
    "    aks_node_vm_sizes = None  \n",
    "  \n",
    "if not aks_node_vm_sizes:  \n",
    "    # Get the list of available VM sizes for AKS in the westeurope region  \n",
    "    success, output = run_command(\"az vm list-sizes --location {resource_group_location} --output json\")  \n",
    "  \n",
    "    if success:  \n",
    "        available_vm_sizes = json.loads(output)  \n",
    "        # Filter VM sizes with at least 2 CPUs and get the first 3 results  \n",
    "        filtered_vm_sizes = [vm['name'] for vm in available_vm_sizes if vm['numberOfCores'] >= 2][:3]  \n",
    "        aks_node_vm_sizes = filtered_vm_sizes  \n",
    "        print(\"Filtered VM sizes:\", aks_node_vm_sizes)  \n",
    "    else:  \n",
    "        print(\"Failed to get available VM sizes. Error:\", output)  \n",
    "        aks_node_vm_sizes = []  \n",
    "\n",
    "# Loop through SKUs and attempt to create AKS cluster\n",
    "for aks_node_vm_size in aks_node_vm_sizes:\n",
    "    print(f\"Trying node vm size: {aks_node_vm_size}\")\n",
    "    \n",
    "    bicep_parameters = {\n",
    "        \"$schema\": \"https://schema.management.azure.com/schemas/2019-04-01/deploymentParameters.json#\",\n",
    "        \"contentVersion\": \"1.0.0.0\",\n",
    "        \"parameters\": {\n",
    "            \"clusterName\": { \"value\": aks_resource_name },\n",
    "            \"location\": { \"value\": resource_group_location },\n",
    "            \"agentVMSize\": { \"value\": aks_node_vm_size },\n",
    "            \"sshRSAPublicKey\": { \"value\":  os.environ.get(\"SSH_PUBLIC_KEY\") },\n",
    "            \"linuxAdminUsername\": { \"value\": linux_admin_username },\n",
    "            \"dnsPrefix\": { \"value\": dns_prefix },\n",
    "        }\n",
    "    }\n",
    "    \n",
    "    with open('params.json', 'w') as bicep_parameters_file:\n",
    "        bicep_parameters_file.write(json.dumps(bicep_parameters))\n",
    "\n",
    "    success, output = run_command(f\"az deployment group create --name {deployment_name} --resource-group {resource_group_name} --template-file \\\"aks.bicep\\\" --parameters \\\"params.json\\\"\")\n",
    "    if success:\n",
    "        print(\"AKS cluster created successfully with node vm size:\", aks_node_vm_size)\n",
    "        break\n",
    "    else:\n",
    "        print(\"Failed to create AKS cluster with node vm size:\", aks_node_vm_size)\n",
    "        print(\"Error:\", output)"
   ]
  }
 ],
 "metadata": {
  "kernelspec": {
   "display_name": "Python 3",
   "language": "python",
   "name": "python3"
  },
  "language_info": {
   "codemirror_mode": {
    "name": "ipython",
    "version": 3
   },
   "file_extension": ".py",
   "mimetype": "text/x-python",
   "name": "python",
   "nbconvert_exporter": "python",
   "pygments_lexer": "ipython3",
   "version": "3.12.3"
  }
 },
 "nbformat": 4,
 "nbformat_minor": 2
}
