{
 "cells": [
  {
   "cell_type": "markdown",
   "metadata": {},
   "source": [
    "# AKS Cookbook\n",
    "\n",
    "## 🧪 AKS with OpenAI\n",
    "\n",
    "![visual](visual.png)\n",
    "\n",
    "Use this lab to quickly Deploy an application that uses OpenAI on Azure Kubernetes Service (AKS).  \n",
    "It's based on the official [AKS documentation](https://learn.microsoft.com/en-us/azure/aks/open-ai-quickstart?tabs=aoai) with a few adaptations to use the [Bicep Kubernetes extension (preview)](https://learn.microsoft.com/en-us/azure/aks/learn/quick-kubernetes-deploy-bicep-kubernetes-extension?tabs=azure-cli).  \n",
    "\n",
    "▶️ Click on the `Run All` button to execute all the subsequent steps in sequence, or run each step individually by executing the cells one at a time.\n",
    "\n",
    "### TOC\n",
    "\n",
    "- [0️⃣ Initialize notebook variables](#0)\n",
    "- [1️⃣ Verify the Azure CLI and connected Azure subscription](#1)\n",
    "- [2️⃣ Create a new Azure Resource Group or reuse an existing one](#2)\n",
    "- [2️⃣ Creates AKS and OpenAI resources, and deploys the application using Bicep 🦾](#3)\n",
    "- [4️⃣ Connect to the AKS cluster](#4)\n",
    "- [5️⃣ Retrieve the ingress IP for the application](#5)\n",
    "- [6️⃣ Test the application by making a request to the AI service](#6)\n",
    "- [🗑️ Clean up resources](#clean)\n",
    "\n"
   ]
  },
  {
   "cell_type": "markdown",
   "metadata": {},
   "source": [
    "<a id='0'></a>\n",
    "### 0️⃣ Initialize notebook variables\n",
    "You can use this notebook with existing resources or to create the necessary resources.  \n",
    "Adjust the location parameters according your preferences and on the [product availability by Azure region](https://azure.microsoft.com/en-us/explore/global-infrastructure/products-by-region/?cdn=disable)."
   ]
  },
  {
   "cell_type": "code",
   "execution_count": null,
   "metadata": {},
   "outputs": [],
   "source": [
    "import os, time, json, requests, utils\n",
    "\n",
    "create_resources = True # specify True if you want to create new resources, False to use existing ones\n",
    "\n",
    "if create_resources:\n",
    "    # create new resources with the following properties\n",
    "    deployment_name = os.path.basename(os.path.dirname(globals()['__vsc_ipynb_file__']))\n",
    "    resource_group_name = f\"lab-{deployment_name}\" # change the name to match your naming convention\n",
    "    resource_group_location = \"eastus2\"\n",
    "    aks_resource_name = \"aks-cluster\"\n",
    "    aks_nodepool_count = 1\n",
    "    aks_nodepool_vm_size = 'standard_d2s_v3'\n",
    "\n",
    "    openai_resource_prefix = \"openai\"\n",
    "    openai_model_name = \"gpt-35-turbo\"\n",
    "    openai_model_version = \"0613\"\n",
    "    openai_deployment_name = \"gpt-35-turbo\"\n",
    "\n",
    "else:\n",
    "    # or use the following existing resources\n",
    "    resource_group_name = \"\"\n",
    "    aks_resource_name = \"\"\n",
    "\n",
    "utils.print_ok('Notebook initiaized')"
   ]
  },
  {
   "cell_type": "markdown",
   "metadata": {},
   "source": [
    "<a id='1'></a>\n",
    "### 1️⃣ Verify the Azure CLI and connected Azure subscription\n",
    "The following commands ensure that you have the latest version of the Azure CLI and relevant extensions installed while also verifying that the Azure CLI is connected to your Azure subscription."
   ]
  },
  {
   "cell_type": "code",
   "execution_count": null,
   "metadata": {},
   "outputs": [],
   "source": [
    "output = utils.run(\"az account show\", \"Retrieved az account\", \"Failed to get the current az account\")\n",
    "if output.success and output.json_data:\n",
    "    current_user = output.json_data['user']['name']\n",
    "    subscription_id = output.json_data['id']\n",
    "    tenant_id = output.json_data['tenantId']\n",
    "output = utils.run(\"az provider register --namespace Microsoft.ContainerService --wait\", \"Microsoft.ContainerService registered in your subscription\", \"Failed to register Microsoft.ContainerService\")\n",
    "output = utils.run(\"az provider register --namespace Microsoft.KubernetesConfiguration --wait\", \"Microsoft.KubernetesConfiguration registered in your subscription\", \"Failed to register Microsoft.KubernetesConfiguration\")\n",
    "output = utils.run(\"az extension add --name k8s-extension\", \"az k8s-extension installed\", \"Failed to install az k8s-extension\")\n",
    "output = utils.run(\"az extension update --name k8s-extension\", \"az k8s-extension updated\", \"Failed to update az k8s-extension\")\n",
    "output = utils.run(\"az extension add --name aks-preview\", \"az aks-preview extension installed\", \"Failed to install az aks-preview extension\")\n",
    "output = utils.run(\"az extension update --name aks-preview\", \"az aks-preview extension updated\", \"Failed to update az aks-preview extension\")\n"
   ]
  },
  {
   "cell_type": "markdown",
   "metadata": {},
   "source": [
    "<a id='2'></a>\n",
    "### 2️⃣ Creates AKS and OpenAI resources, and deploys the application using Bicep 🦾\n",
    "All resources deployed in this lab will be created within the designated resource group.   \n",
    "The following step creates the AKS cluster and Azure OpenAI using a BICEP deployment.\n",
    "It also deploys the application using the [Bicep Kubernetes extension (preview)](https://learn.microsoft.com/en-us/azure/aks/learn/quick-kubernetes-deploy-bicep-kubernetes-extension?tabs=azure-cli)"
   ]
  },
  {
   "cell_type": "code",
   "execution_count": null,
   "metadata": {},
   "outputs": [],
   "source": [
    "if create_resources:\n",
    "    utils.create_resource_group(create_resources, resource_group_name, resource_group_location)\n",
    "    bicep_parameters = {\n",
    "        \"$schema\": \"https://schema.management.azure.com/schemas/2019-04-01/deploymentParameters.json#\",\n",
    "        \"contentVersion\": \"1.0.0.0\",\n",
    "        \"parameters\": {\n",
    "            \"clusterName\": { \"value\": aks_resource_name },\n",
    "            \"nodePoolCount\": { \"value\": aks_nodepool_count },\n",
    "            \"nodePoolVMSize\": { \"value\": aks_nodepool_vm_size },\n",
    "            \"openAIResourcePrefix\": { \"value\": openai_resource_prefix },\n",
    "            \"openAIDeploymentName\": { \"value\": openai_deployment_name },\n",
    "            \"openAIModelName\": { \"value\": openai_model_name },\n",
    "            \"openAIModelVersion\": { \"value\": openai_model_version }\n",
    "        }\n",
    "    }    \n",
    "    with open('params.json', 'w') as bicep_parameters_file:\n",
    "        bicep_parameters_file.write(json.dumps(bicep_parameters))\n",
    "\n",
    "    output = utils.run(f\"az deployment group create --name {deployment_name} --resource-group {resource_group_name} --template-file main.bicep --parameters params.json\", \n",
    "                 f\"Deployment '{deployment_name}' succeeded\", f\"Deployment '{deployment_name}' failed\")\n"
   ]
  },
  {
   "cell_type": "markdown",
   "metadata": {},
   "source": [
    "<a id='3'></a>\n",
    "### 3️⃣ Retrieve deployment outputs"
   ]
  },
  {
   "cell_type": "code",
   "execution_count": null,
   "metadata": {},
   "outputs": [],
   "source": [
    "if create_resources:\n",
    "    # retrieve deployment outputs\n",
    "    output = utils.run(f\"az deployment group show --name {deployment_name} -g {resource_group_name}\", f\"Retrieved deployment: {deployment_name}\", f\"Failed to retrieve deployment: {deployment_name}\")\n",
    "    if output.success and output.json_data:\n",
    "        aks_control_plane_fqdn = utils.get_deployment_output(output, 'controlPlaneFQDN', 'Control Plane FQDN')\n"
   ]
  },
  {
   "cell_type": "markdown",
   "metadata": {},
   "source": [
    "<a id='4'></a>\n",
    "### 4️⃣ Connect to the AKS cluster\n",
    "Configure kubectl to connect to your Kubernetes cluster using the [az aks get-credentials](https://learn.microsoft.com/en-us/cli/azure/aks?view=azure-cli-latest#az-aks-get-credentials) command. This command downloads credentials and configures the Kubernetes CLI to use them."
   ]
  },
  {
   "cell_type": "code",
   "execution_count": null,
   "metadata": {},
   "outputs": [],
   "source": [
    "output = utils.run(f\"az aks get-credentials --resource-group {resource_group_name} --name {aks_resource_name} --overwrite-existing\",\n",
    "             f\"Credentials for AKS cluster '{aks_resource_name}' configured\",\n",
    "             f\"Failed to configure credentials for AKS cluster '{aks_resource_name}'\")\n"
   ]
  },
  {
   "cell_type": "markdown",
   "metadata": {},
   "source": [
    "<a id='5'></a>\n",
    "### 5️⃣ Retrieve the ingress IP for the application\n",
    "\n",
    "Get the IP of the store admin web application and store front web application using the kubectl get service command."
   ]
  },
  {
   "cell_type": "code",
   "execution_count": null,
   "metadata": {},
   "outputs": [],
   "source": [
    "wait_time = 60 # in seconds\n",
    "sleep_time = 5 # in seconds\n",
    "request_timeout = 60 # in seconds\n",
    "message = \"Application is not ready yet. Check the logs.\"\n",
    "while wait_time - sleep_time > 0:\n",
    "    output = utils.run(\"kubectl get pods -l app=store-front -o jsonpath={..status.phase}\")\n",
    "    if output.success and output.text == \"Running\":\n",
    "        output = utils.run(\"kubectl get service store-admin --output jsonpath={..status.loadBalancer.ingress[0]}\")\n",
    "        if output.success and output.json_data:\n",
    "            ingress_ip = output.json_data['ip']\n",
    "            utils.print_info(f\"Service External IP: {ingress_ip}\")\n",
    "            try:\n",
    "                response = requests.get(f\"http://{ingress_ip}\", timeout=request_timeout)\n",
    "                if (response.status_code == 200):\n",
    "                    utils.print_ok(f\"Application ready @ http://{ingress_ip}\")\n",
    "                    message = None\n",
    "                    break\n",
    "            except:\n",
    "                message = \"The application is currently unresponsive...\"\n",
    "    wait_time -= sleep_time\n",
    "    time.sleep(sleep_time)\n",
    "if message:\n",
    "    utils.print_warning(message)"
   ]
  },
  {
   "cell_type": "markdown",
   "metadata": {},
   "source": [
    "<a id='6'></a>\n",
    "### 6️⃣ Test the application by making a request to the AI service\n",
    "You can also test the application by opening the user interface in a browser and creating a new product. OpenAI will assist in generating the product description."
   ]
  },
  {
   "cell_type": "code",
   "execution_count": null,
   "metadata": {},
   "outputs": [],
   "source": [
    "json = {\"name\":\"octocat\",\"tags\":[\"octopus cat\"]}\n",
    "\n",
    "response = requests.post(f\"http://{ingress_ip}/ai/generate/description\", json = json)\n",
    "utils.print_response(response)"
   ]
  },
  {
   "cell_type": "markdown",
   "metadata": {},
   "source": [
    "<a id='clean'></a>\n",
    "### 🗑️ Clean up resources\n",
    "When you're finished with the lab, you should remove all your deployed resources from Azure to avoid extra charges and keep your Azure subscription uncluttered. Use the [clean-up-resources notebook](clean-up-resources.ipynb) for that."
   ]
  }
 ],
 "metadata": {
  "kernelspec": {
   "display_name": "Python 3",
   "language": "python",
   "name": "python3"
  },
  "language_info": {
   "codemirror_mode": {
    "name": "ipython",
    "version": 3
   },
   "file_extension": ".py",
   "mimetype": "text/x-python",
   "name": "python",
   "nbconvert_exporter": "python",
   "pygments_lexer": "ipython3",
   "version": "3.12.6"
  }
 },
 "nbformat": 4,
 "nbformat_minor": 2
}
