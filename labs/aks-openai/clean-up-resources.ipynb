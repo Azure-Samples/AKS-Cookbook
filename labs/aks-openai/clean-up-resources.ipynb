{
 "cells": [
  {
   "cell_type": "markdown",
   "metadata": {},
   "source": [
    "<a id='clean'></a>\n",
    "### 🗑️ Clean up resources\n",
    "\n",
    "When you're finished with the lab, you should remove all your deployed resources from Azure to avoid extra charges and keep your Azure subscription uncluttered.  \n",
    "This script retrieves the resources created during the deployment, deletes each one, and purges them if necessary. Finally, it deletes the resource group."
   ]
  },
  {
   "cell_type": "code",
   "execution_count": null,
   "metadata": {},
   "outputs": [],
   "source": [
    "import os, time, json, utils\n",
    "deployment_name = os.path.basename(os.path.dirname(globals()['__vsc_ipynb_file__']))\n",
    "resource_group_name = f\"lab-{deployment_name}\"\n",
    "\n",
    "query = \"\\\"{type:type, name:name, location:location}\\\"\"\n",
    "output = utils.run(f\"az deployment group show --name {deployment_name} -g {resource_group_name}\", f\"Retrieved deployment: {deployment_name}\", f\"Failed to retrieve deployment: {deployment_name}\")\n",
    "if output.success and output.json_data and output.json_data.get(\"properties\") and output.json_data.get(\"properties\").get(\"provisioningState\") == \"Succeeded\" and output.json_data.get(\"properties\").get(\"outputResources\"):\n",
    "    for resource in output.json_data.get(\"properties\").get(\"outputResources\"):\n",
    "        resource_id = resource.get(\"id\")\n",
    "        try:\n",
    "            output = utils.run(f\"az resource show --id {resource_id} --query {query} -o json\")\n",
    "            if output.success and output.json_data:\n",
    "                resource_type = output.json_data.get(\"type\")\n",
    "                resource_name = output.json_data.get(\"name\")\n",
    "                resource_location = output.json_data.get(\"location\")\n",
    "                if resource_type == \"Microsoft.ContainerService/ManagedClusters\":\n",
    "                    output = utils.run(f\"az aks delete --name {resource_name} --resource-group {resource_group_name} --yes\", f\"Deleted resource {resource_name}\", f\"Failed to delete resource {resource_name}\")\n",
    "                elif resource_type == \"Microsoft.KeyVault/vaults\":\n",
    "                    output = utils.run(f\"az keyvault delete --name {resource_name} --resource-group {resource_group_name}\", f\"Deleted resource {resource_name}\", f\"Failed to delete resource {resource_name}\")\n",
    "                    output = utils.run(f\"az keyvault purge --name {resource_name} --resource-group {resource_group_name} --location {resource_location}\", f\"Purged resource {resource_name}\", f\"Failed to purge resource {resource_name}\")\n",
    "                elif resource_type == \"Microsoft.CognitiveServices/accounts\":\n",
    "                    output = utils.run(f\"az cognitiveservices account delete --name {resource_name} --resource-group {resource_group_name}\", f\"Deleted resource {resource_name}\", f\"Failed to delete resource {resource_name}\")\n",
    "                    output = utils.run(f\"az cognitiveservices account purge --name {resource_name} --resource-group {resource_group_name} --location {resource_location}\", f\"Purged resource {resource_name}\", f\"Failed to purge resource {resource_name}\")\n",
    "                elif resource_type == \"Microsoft.ApiManagement/service\":\n",
    "                    output = utils.run(f\"az apim delete --name {resource_name} --resource-group {resource_group_name} --yes\", f\"Deleted resource {resource_name}\", f\"Failed to delete resource {resource_name}\")\n",
    "                    output = utils.run(f\"az apim deletedservice purge --name {resource_name} --resource-group {resource_group_name} --location {resource_location}\", f\"Purged resource {resource_name}\", f\"Failed to purge resource {resource_name}\")\n",
    "                elif resource_type == \"Microsoft.Network/virtualNetworks\":\n",
    "                    utils.print_warning(f\"Skipping deletion of resource {resource_name} with type {resource_type}\")\n",
    "                else:\n",
    "                    output = utils.run(f\"az resource delete --id {resource_id}\", f\"Deleted resource {resource_name} with tyoe {resource_type}\", f\"Failed to delete resource {resource_name} with type {resource_type}\")\n",
    "        except:\n",
    "            utils.print_warning(f\"Failed to delete resource {resource_name} with type {resource_type}\")\n",
    "else:\n",
    "    utils.print_warning(f\"Invalid deployment: {deployment_name}\")\n",
    "output = utils.run(f\"az group delete --name {resource_group_name} --yes\", f\"Deleted resource group {resource_group_name}\", f\"Failed to delete resource group {resource_group_name}\")\n",
    "\n"
   ]
  }
 ],
 "metadata": {
  "kernelspec": {
   "display_name": "Python 3",
   "language": "python",
   "name": "python3"
  },
  "language_info": {
   "codemirror_mode": {
    "name": "ipython",
    "version": 3
   },
   "file_extension": ".py",
   "mimetype": "text/x-python",
   "name": "python",
   "nbconvert_exporter": "python",
   "pygments_lexer": "ipython3",
   "version": "3.12.5"
  }
 },
 "nbformat": 4,
 "nbformat_minor": 2
}
