{
 "cells": [
  {
   "cell_type": "markdown",
   "metadata": {},
   "source": [
    "# AKS Cookbook\n",
    "\n",
    "## 🧪 Service Bus Queue scaled by KEDA\n",
    "\n",
    "![visual](visual.png)\n",
    "\n",
    "This setup will go through creating an Azure Service Bus queue and deploying this consumer with the ScaledObject to scale via KEDA. If you already have an Azure Service Bus namespace you can use your existing queues.\n",
    "\n",
    "KEDA works alongside standard Kubernetes components like the Horizontal Pod Autoscaler and can extend functionality without overwriting or duplication.\n",
    "\n",
    "Keda got two key roles within the cluster, **keda-operator** which scales from minimum to maximum pod counts set in the ScaledObject manifest file via Kubernetes Horizontal Pod Autoscaler and **keda-operator-metrics-apiserver** which gets the data for the scaling decision.\n",
    "\n",
    "### TOC\n",
    "- [0️⃣ Initialize notebook variables](#0)\n",
    "- [1️⃣ Set your Azure Subscription](#1)\n",
    "- [2️⃣ Get AKS credentials and verify the connection](#2)\n",
    "- [3️⃣ Update your AKS cluster to enable KEDA](#3)\n",
    "- [4️⃣ Create a Service Bus instance](#4)\n",
    "- [5️⃣ Create a new authorization rule](#5)\n",
    "- [6️⃣ Deploy order processor](#6)\n",
    "- [7️⃣ Deploying our autoscaling](#7)\n",
    "- [8️⃣ Publishing messages to the queue](#8)\n",
    "- [🗑️ Clean up resources](#clean)"
   ]
  },
  {
   "cell_type": "markdown",
   "metadata": {},
   "source": [
    "<a id='0'></a>\n",
    "### 0️⃣ Initialize notebook variables\n",
    "\n",
    "- Resources will be suffixed by a unique string based on your subscription id.\n",
    "- Provide either the tenant and the subscription IDs, before running the lab.\n",
    "- Provide also a resource group name.\n",
    "- Adjust the location parameters according your preferences and on the [product availability by Azure region](https://azure.microsoft.com/en-us/explore/global-infrastructure/products-by-region/?cdn=disable&products=cognitive-services,api-management).\n",
    "- Check your aks cluster name. If you want to create a new AKS cluster, please refer to this [Jupyter notebook](new-aks-cluster.ipynb)"
   ]
  },
  {
   "cell_type": "code",
   "execution_count": null,
   "metadata": {},
   "outputs": [],
   "source": [
    "import os\n",
    "import datetime\n",
    "\n",
    "deployment_name = os.path.basename(os.path.dirname(globals()['__vsc_ipynb_file__']))\n",
    "resource_group_name = f\"lab-{deployment_name}\" # change the name to match your naming style\n",
    "resource_group_location = \"eastus2\"\n",
    "tenant_id = \"<tenant_id>\"\n",
    "subscription_id = \"<subscription_id>\"\n",
    "aks_resource_name = \"aks-keda-service-bus\"\n",
    "aks_resource_namespace = \"keda-service-bus-sample\"\n",
    "service_bus_namespace = \"service-bus-orders\"\n",
    "service_bus_sku = \"basic\"\n",
    "service_bus_queue = \"orders\"\n",
    "service_bus_auth_rule = \"order-consumer\""
   ]
  },
  {
   "cell_type": "markdown",
   "metadata": {},
   "source": [
    "<a id='1'></a>\n",
    "### 1️⃣ Set your Azure Subscription\n",
    "Use this step to specify which Azure tenant and subscription should be used for subsequent Azure CLI commands."
   ]
  },
  {
   "cell_type": "code",
   "execution_count": null,
   "metadata": {},
   "outputs": [],
   "source": [
    "! az login --tenant {tenant_id}\n",
    "! az account set --subscription {subscription_id}"
   ]
  },
  {
   "cell_type": "markdown",
   "metadata": {},
   "source": [
    "<a id='2'></a>\n",
    "### 2️⃣ Create the Azure Resource Group\n",
    "All resources deployed in this lab will be created in the specified resource group. Skip this step if you want to use an existing resource group."
   ]
  },
  {
   "cell_type": "code",
   "execution_count": null,
   "metadata": {},
   "outputs": [],
   "source": [
    "resource_group_stdout = ! az group create --name {resource_group_name} --location {resource_group_location}\n",
    "if resource_group_stdout.n.startswith(\"ERROR\"):\n",
    "    print(resource_group_stdout)\n",
    "else:\n",
    "    print(\"✅ Azure Resource Group \", resource_group_name, \" created ⌚ \", datetime.datetime.now().time())\n"
   ]
  },
  {
   "cell_type": "markdown",
   "metadata": {},
   "source": [
    "<a id='3'></a>\n",
    "### 3️⃣ Update your AKS cluster to enable KEDA\n",
    "\n",
    "We'll enable KEDA add-on on an existing cluster. If you want to create a new AKS cluster, please refer to this [Jupyter notebook](new-aks-cluster.ipynb)"
   ]
  },
  {
   "cell_type": "code",
   "execution_count": null,
   "metadata": {},
   "outputs": [],
   "source": [
    "# Get the credentials for the AKS cluster.\n",
    "! az aks get-credentials --resource-group {resource_group_name} --name {aks_resource_name}\n",
    "\n",
    "! az aks update --resource-group {resource_group_name} --name {aks_resource_name} --enable-keda \n",
    "\n",
    "# Verify the KEDA add-on is installed on your cluster.\n",
    "keda_enabled_output = ! az aks show --resource-group {resource_group_name} --name {aks_resource_name} --query \"workloadAutoScalerProfile.keda.enabled\" -o tsv\n",
    "keda_enabled = keda_enabled_output[-1].strip()\n",
    "if keda_enabled == 'true':\n",
    "    print(\"✅ KEDA add-on is enabled on the AKS cluster ⌚ \", datetime.datetime.now().time())\n",
    "else:\n",
    "    print(\"❌ KEDA add-on is not enabled on the AKS cluster ⌚ \", datetime.datetime.now().time())\n",
    "\n",
    "# Verify KEDA is running on the cluster.\n",
    "keda_pods = ! kubectl get pods -n kube-system\n",
    "print(\"keda pods: \", keda_pods)\n",
    "\n",
    "# Verify KEDA version.\n",
    "keda_version = ! kubectl get crd/scaledobjects.keda.sh -o yaml\n",
    "print(\"keda version: \", keda_version)"
   ]
  },
  {
   "cell_type": "markdown",
   "metadata": {},
   "source": [
    "Verify KEDA is running on the cluster."
   ]
  },
  {
   "cell_type": "code",
   "execution_count": null,
   "metadata": {},
   "outputs": [],
   "source": [
    "! kubectl get pods -n kube-system"
   ]
  },
  {
   "cell_type": "markdown",
   "metadata": {},
   "source": [
    "Verify KEDA version"
   ]
  },
  {
   "cell_type": "code",
   "execution_count": null,
   "metadata": {},
   "outputs": [],
   "source": [
    "! kubectl get crd/scaledobjects.keda.sh -o yaml"
   ]
  },
  {
   "cell_type": "markdown",
   "metadata": {},
   "source": [
    "<a id='4'></a>\n",
    "### 4️⃣ Create a Service Bus instance\n",
    "Skip this step if you already have a sb instance and with a queue."
   ]
  },
  {
   "cell_type": "code",
   "execution_count": null,
   "metadata": {},
   "outputs": [],
   "source": [
    "import os\n",
    "import datetime\n",
    "import json\n",
    "\n",
    "def log(stdout, name, action):\n",
    "    if stdout.n.startswith(\"ERROR\"):\n",
    "        print(\"👎🏻 \", name, \" was NOT \", action, \": \", stdout)\n",
    "    else:\n",
    "        print(\"👍🏻 \", name, \" was \", action, \" ⌚ \", datetime.datetime.now().time())\n",
    "\n",
    "def parse_output(output):\n",
    "    try:\n",
    "        return json.loads(\"\".join(output))\n",
    "    except json.JSONDecodeError:\n",
    "        return None\n",
    "\n",
    "# Create a new Azure Service Bus namespace\n",
    "sb_namespace_stdout = ! az servicebus namespace create --name {service_bus_namespace} --resource-group {resource_group_name} --sku {service_bus_sku}\n",
    "log(sb_namespace_stdout, \"Azure Service Bus namespace\", \"created\")\n",
    "\n",
    "# Parse the namespace creation output to check if it was successful\n",
    "sb_namespace = parse_output(sb_namespace_stdout)\n",
    "if sb_namespace and sb_namespace.get(\"provisioningState\") == \"Succeeded\":\n",
    "    print(f\"✅ Azure Service Bus namespace {service_bus_namespace} created successfully ⌚ {datetime.datetime.now().time()}\")\n",
    "else:\n",
    "    print(f\"❌ Failed to create Azure Service Bus namespace {service_bus_namespace} ⌚ {datetime.datetime.now().time()}\")\n",
    "\n",
    "# Create a queue in the Service Bus namespace\n",
    "sb_queue_stdout = ! az servicebus queue create --name {service_bus_queue} --namespace-name {service_bus_namespace} --resource-group {resource_group_name}\n",
    "log(sb_queue_stdout, \"Azure Service Bus queue '{service_bus_queue}'\", \"created\")\n",
    "  \n",
    "# Parse the queue creation output to check if it was successful  \n",
    "sb_queue = parse_output(sb_queue_stdout)\n",
    "if sb_queue and sb_queue.get(\"status\") == \"Active\":\n",
    "    print(f\"✅ Azure Service Bus queue '{service_bus_queue}' created successfully ⌚ {datetime.datetime.now().time()}\")\n",
    "else:\n",
    "    print(f\"❌ Failed to create Azure Service Bus queue '{service_bus_queue}' ⌚ {datetime.datetime.now().time()}\")"
   ]
  },
  {
   "cell_type": "markdown",
   "metadata": {},
   "source": [
    "<a id='5'></a>\n",
    "### 5️⃣ Create a new authorization rule\n",
    "We create a new authorization rule, called 'order-consumer' with Manage Send Listen permissions which our .net app will use to process messages."
   ]
  },
  {
   "cell_type": "code",
   "execution_count": null,
   "metadata": {},
   "outputs": [],
   "source": [
    "! az servicebus queue authorization-rule create --resource-group {resource_group_name} --namespace-name {service_bus_namespace} --queue-name {service_bus_queue} --name order-consumer --rights Manage Listen Send"
   ]
  },
  {
   "cell_type": "markdown",
   "metadata": {},
   "source": [
    "Once the authorization rule is created, we can list the connection string as following:"
   ]
  },
  {
   "cell_type": "code",
   "execution_count": null,
   "metadata": {},
   "outputs": [],
   "source": [
    "import os  \n",
    "import datetime  \n",
    "import json  \n",
    "import base64  \n",
    "  \n",
    "def log(stdout, name, action):\n",
    "    if stdout[0].startswith(\"ERROR\"):\n",
    "        print(f\"👎🏻 {name} was NOT {action}: {stdout}\")\n",
    "    else:\n",
    "        print(f\"👍🏻 {name} was {action} ⌚ {datetime.datetime.now().time()}\")\n",
    "\n",
    "def parse_output(output):\n",
    "    try:\n",
    "        return json.loads(\"\".join(output))\n",
    "    except json.JSONDecodeError:\n",
    "        return None\n",
    "\n",
    "auth_rule_stdout = ! az servicebus queue authorization-rule create --resource-group {resource_group_name} --namespace-name {service_bus_namespace} --queue-name {service_bus_queue} --name order-consumer --rights Manage Listen Send\n",
    "log(auth_rule_stdout, \"Authorization rule 'order-consumer'\", \"created\")\n",
    "\n",
    "# List the keys for the authorization rule\n",
    "keys_stdout = ! az servicebus queue authorization-rule keys list --resource-group {resource_group_name} --namespace-name {service_bus_namespace} --queue-name {service_bus_queue} --name order-consumer -o json\n",
    "keys = parse_output(keys_stdout)\n",
    "if keys:\n",
    "    primary_connection_string = keys.get(\"primaryConnectionString\")\n",
    "    print(\"Primary Connection String:\", primary_connection_string) \n",
    "else:\n",
    "    print(\"❌ Failed to retrieve keys for the authorization rule 'order-consumer' ⌚\", datetime.datetime.now().time())\n",
    "\n",
    "# Create the base64 representation of the connection string\n",
    "if primary_connection_string:\n",
    "    primary_connection_string_base64 = base64.b64encode(primary_connection_string.encode(\"utf-8\")).decode(\"utf-8\")\n",
    "    print(\"Base64 Encoded Connection String:\", primary_connection_string_base64)\n",
    "else:\n",
    "    primary_connection_string_base64 = \"\"\n",
    "    print(\"No primary connection string found to encode.\")"
   ]
  },
  {
   "cell_type": "markdown",
   "metadata": {},
   "source": [
    "<a id='6'></a>\n",
    "### 6️⃣ Deploy order processor\n",
    "\n",
    "We will start by creating a new Kubernetes namespace to run our order processor in. If you want to create a new AKS cluster, please refer to this [Jupyter notebook](new-aks-cluster.ipynb) "
   ]
  },
  {
   "cell_type": "code",
   "execution_count": null,
   "metadata": {},
   "outputs": [],
   "source": [
    "! kubectl create namespace {aks_resource_namespace}"
   ]
  },
  {
   "cell_type": "markdown",
   "metadata": {},
   "source": [
    "Before we can connect to our queue, we need to create a secret which contains the Service Bus connection string to the queue."
   ]
  },
  {
   "cell_type": "code",
   "execution_count": null,
   "metadata": {},
   "outputs": [],
   "source": [
    "import os\n",
    "import subprocess\n",
    "\n",
    "# Read the secret template\n",
    "with open(\"deploy-app.yaml\", \"r\") as file:\n",
    "    deployapp_template = file.read()\n",
    "\n",
    "# Replace placeholders with actual values\n",
    "deployapp_content = deployapp_template.replace(\"$SERVICE_BUS_QUEUE_NAME\", service_bus_queue).replace(\"$BASE64_ENCODED_CONNECTION_STRING\", primary_connection_string_base64)\n",
    "\n",
    "# Write the updated content to a new file\n",
    "with open(\"deploy-app_modified.yaml\", \"w\") as file:\n",
    "    file.write(deployapp_content)\n",
    "\n",
    "# Apply the secret using kubectl\n",
    "apply_command = \"kubectl apply -f deploy-app_modified.yaml --namespace \" + aks_resource_namespace\n",
    "result = subprocess.run(apply_command, shell = True, capture_output = True, text = True)\n",
    "\n",
    "# Print the result\n",
    "if result.returncode == 0:\n",
    "    print(\"Command applied successfully.\")\n",
    "    print(result.stdout)\n",
    "else:\n",
    "    print(\"Failed.\")\n",
    "    print(result.stderr)"
   ]
  },
  {
   "cell_type": "markdown",
   "metadata": {},
   "source": [
    "Once created, you should be able to retrieve the secret"
   ]
  },
  {
   "cell_type": "code",
   "execution_count": null,
   "metadata": {},
   "outputs": [],
   "source": [
    "! kubectl get secrets -n {aks_resource_namespace}"
   ]
  },
  {
   "cell_type": "markdown",
   "metadata": {},
   "source": [
    "You will see that our deployment shows up with one pods created."
   ]
  },
  {
   "cell_type": "code",
   "execution_count": null,
   "metadata": {},
   "outputs": [],
   "source": [
    "! kubectl get deployments --namespace {aks_resource_namespace} -o wide"
   ]
  },
  {
   "cell_type": "markdown",
   "metadata": {},
   "source": [
    "<a id='7'></a>\n",
    "### 7️⃣ Deploying our autoscaling\n",
    "\n",
    "We will create a new authorization rule, 'keda-monitor', with Management permissions so that KEDA can monitor it."
   ]
  },
  {
   "cell_type": "code",
   "execution_count": null,
   "metadata": {},
   "outputs": [],
   "source": [
    "! az servicebus queue authorization-rule create --resource-group {resource_group_name} --namespace-name {service_bus_namespace} --queue-name {service_bus_queue} --name keda-monitor --rights Manage Send Listen"
   ]
  },
  {
   "cell_type": "code",
   "execution_count": null,
   "metadata": {},
   "outputs": [],
   "source": [
    "import os\n",
    "import subprocess\n",
    "\n",
    "# Read the secret template\n",
    "with open(\"deploy-autoscaling.yaml\", \"r\") as file:\n",
    "    deployapp_template = file.read()\n",
    "\n",
    "# Replace placeholders with actual values\n",
    "deployapp_content = deployapp_template.replace(\"$BASE64_ENCODED_CONNECTION_STRING\", primary_connection_string_base64).replace(\"$SERVICE_BUS_QUEUE_NAME\", service_bus_queue)\n",
    "\n",
    "# Write the updated content to a new file\n",
    "with open(\"deploy-autoscaling_modified.yaml\", \"w\") as file:\n",
    "    file.write(deployapp_content)\n",
    "\n",
    "# Apply the secret using kubectl\n",
    "apply_command = \"kubectl apply -f deploy-autoscaling_modified.yaml --namespace \"+ aks_resource_namespace\n",
    "result = subprocess.run(apply_command, shell = True, capture_output = True, text = True)\n",
    "\n",
    "# Print the result\n",
    "if result.returncode == 0:\n",
    "    print(\"Command applied successfully.\")\n",
    "    print(result.stdout)\n",
    "else:\n",
    "    print(\"Failed.\")\n",
    "    print(result.stderr)"
   ]
  },
  {
   "cell_type": "markdown",
   "metadata": {},
   "source": [
    "Once created, you will see that our deployment shows up with no pods created.\n",
    "This is because our queue is empty and KEDA scaled it down until there is work to do."
   ]
  },
  {
   "cell_type": "code",
   "execution_count": null,
   "metadata": {},
   "outputs": [],
   "source": [
    "! kubectl get deployments --namespace {aks_resource_namespace} -o wide"
   ]
  },
  {
   "cell_type": "markdown",
   "metadata": {},
   "source": [
    "<a id='8'></a>\n",
    "### 8️⃣ Publishing messages to the queue\n",
    "\n",
    "The following job will send messages to the \"orders\" queue on which the order processor is listening to. As the queue builds up, KEDA will help the horizontal pod autoscaler add more and more pods until the queue is drained. The order generator will allow you to specify how many messages you want to queue."
   ]
  },
  {
   "cell_type": "markdown",
   "metadata": {},
   "source": [
    "Clone the project"
   ]
  },
  {
   "cell_type": "code",
   "execution_count": null,
   "metadata": {},
   "outputs": [],
   "source": [
    "! git clone https://github.com/kedacore/sample-dotnet-worker-servicebus-queue"
   ]
  },
  {
   "cell_type": "markdown",
   "metadata": {},
   "source": [
    "Run the project\n",
    "\n",
    "Go to __sample-dotnet-worker-servicebus-queue\\src\\Keda.Samples.Dotnet.OrderGenerator\\Program.cs__ and replace\n",
    "- QueueName\n",
    "- ConnectionString\n",
    "\n",
    "with the correct values. Then run the **OrderGenerator** project."
   ]
  },
  {
   "cell_type": "markdown",
   "metadata": {},
   "source": []
  },
  {
   "cell_type": "code",
   "execution_count": null,
   "metadata": {},
   "outputs": [],
   "source": [
    "! dotnet run --project \"./sample-dotnet-worker-servicebus-queue/src/Keda.Samples.Dotnet.OrderGenerator\\Keda.Samples.Dotnet.OrderGenerator.csproj\""
   ]
  },
  {
   "cell_type": "markdown",
   "metadata": {},
   "source": [
    "Now that the messages are generated, you'll see that KEDA starts automatically scaling out your deployment."
   ]
  },
  {
   "cell_type": "code",
   "execution_count": null,
   "metadata": {},
   "outputs": [],
   "source": [
    "! kubectl get deployments --namespace {aks_resource_namespace} -o wide\n",
    "! kubectl get pods --namespace {aks_resource_namespace}"
   ]
  },
  {
   "cell_type": "markdown",
   "metadata": {},
   "source": [
    "You can look at the logs for a given processor as following."
   ]
  },
  {
   "cell_type": "code",
   "execution_count": null,
   "metadata": {},
   "outputs": [],
   "source": [
    "! kubectl logs -l app=order-processor --namespace {aks_resource_namespace}"
   ]
  }
 ],
 "metadata": {
  "kernelspec": {
   "display_name": "Python 3",
   "language": "python",
   "name": "python3"
  },
  "language_info": {
   "codemirror_mode": {
    "name": "ipython",
    "version": 3
   },
   "file_extension": ".py",
   "mimetype": "text/x-python",
   "name": "python",
   "nbconvert_exporter": "python",
   "pygments_lexer": "ipython3",
   "version": "3.12.3"
  },
  "polyglot_notebook": {
   "kernelInfo": {
    "defaultKernelName": "csharp",
    "items": [
     {
      "aliases": [],
      "name": "csharp"
     }
    ]
   }
  }
 },
 "nbformat": 4,
 "nbformat_minor": 2
}
