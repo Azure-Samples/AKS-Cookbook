{
 "cells": [
  {
   "cell_type": "markdown",
   "metadata": {},
   "source": [
    "# AKS Cookbook\n",
    "\n",
    "## 🧪 Flyte on AKS to build and deploy data and machine learning pipelines\n",
    "\n",
    "![visual](visual.png)\n",
    "\n",
    "[Flyte](https://docs.flyte.org/en/latest/introduction.html) is an open-source workflow orchestrator that unifies machine learning, data engineering, and data analytics stacks to help you build robust and reliable applications. When using Flyte as a Kubernetes-native workflow automation tool, you can focus on experimentation and providing business value without increasing your scope to infrastructure and resource management. Keep in mind that Flyte isn't officially supported by Microsoft, so use it at your own discretion.  \n",
    "This lab is based on the official [AKS documentation](https://learn.microsoft.com/en-us/azure/aks/use-flyte).\n",
    "\n",
    "▶️ Click on the `Run All` button to execute all the subsequent steps in sequence, or run each step individually by executing the cells one at a time.\n",
    "\n",
    "### TOC\n",
    "\n",
    "- [0️⃣ Initialize notebook variables](#0)\n",
    "- [1️⃣ Verify the Azure CLI and connected Azure subscription](#1)\n",
    "- [2️⃣ Create a new Azure Resource Group or reuse an existing one](#2)\n",
    "- [3️⃣ Create an AKS cluster](#3)\n",
    "- [4️⃣ Connect to the AKS cluster](#4)\n",
    "- [5️⃣ Retrieve the list of AKS cluster nodes](#5)\n",
    "- [6️⃣ Deploy the sample application](#6)\n",
    "- [7️⃣ List the Kubernetes resources created](#7)\n",
    "- [8️⃣ Test the application](#8)\n",
    "- [9️⃣ Observe the logs](#9)\n",
    "- [🗑️ Clean up resources](#clean)\n"
   ]
  },
  {
   "cell_type": "markdown",
   "metadata": {},
   "source": [
    "<a id='0'></a>\n",
    "### 0️⃣ Initialize notebook variables\n",
    "Adjust the location parameters according your preferences and on the [product availability by Azure region](https://azure.microsoft.com/en-us/explore/global-infrastructure/products-by-region/?cdn=disable)."
   ]
  },
  {
   "cell_type": "code",
   "execution_count": null,
   "metadata": {},
   "outputs": [],
   "source": [
    "import os, time, json, utils\n",
    "\n",
    "notebook_path = os.path.dirname(globals()['__vsc_ipynb_file__'])\n",
    "\n",
    "deployment_name = os.path.basename(os.path.dirname(globals()['__vsc_ipynb_file__']))\n",
    "resource_group_name = f\"lab-{deployment_name}\" # change the name to match your naming convention\n",
    "resource_group_location = \"eastus2\"\n",
    "aks_resource_name = \"aks-cluster\"\n",
    "aks_node_count = 1\n",
    "aks_dns_name_prefix = f\"aks-{deployment_name}\"\n",
    "\n",
    "aks_dns_label = \"flyte22\"\n",
    "\n",
    "flyte_tenant = \"flyte\"\n",
    "flyte_environment = \"lab\"\n",
    "flyte_project_name = \"myproject\"\n",
    "flyte_deploy_repo = \"https://github.com/unionai-oss/deploy-flyte/\"\n",
    "aks_admin_role_id = 'b1ff04bb-8a4e-4dc4-8eb5-8693973ce19b' # Azure Kubernetes Service RBAC Cluster Admin: https://learn.microsoft.com/en-us/azure/role-based-access-control/built-in-roles/containers#azure-kubernetes-service-rbac-cluster-admin\n",
    "tfstate_resource_group_name = f\"lab-{deployment_name}-tfstate\" # change the name to match your naming convention\n",
    "tfstate_storage_account_name=\"aksflytetfstate\"\n",
    "tfstate_storage_account_container_name=\"tfstate\"\n",
    "utils.print_ok('Notebook initiaized')\n"
   ]
  },
  {
   "cell_type": "markdown",
   "metadata": {},
   "source": [
    "<a id='1'></a>\n",
    "### 1️⃣ Verify the Azure CLI and connected Azure subscription\n",
    "The following commands ensure that you have the latest version of the Azure CLI and relevant extensions installed while also verifying that the Azure CLI is connected to your Azure subscription."
   ]
  },
  {
   "cell_type": "code",
   "execution_count": null,
   "metadata": {},
   "outputs": [],
   "source": [
    "output = utils.run(\"az account show\", \"Retrieved az account\", \"Failed to get the current az account\")\n",
    "if output.success and output.json_data:\n",
    "    current_user = output.json_data.get('user').get('name')\n",
    "    subscription_id = output.json_data.get('id')\n",
    "    tenant_id = output.json_data.get('tenantId')\n",
    "\n",
    "output = utils.run(\"az ad signed-in-user show\", \"Retrieved signed-in-user\", \"Failed to get signed-in-user\")\n",
    "if output.success and output.json_data:\n",
    "    signed_in_user_id = output.json_data['id']\n",
    "    utils.print_info(f\"Signed-in User Id: {signed_in_user_id}\")\n",
    "\n",
    "output = utils.run(\"az provider register --namespace Microsoft.ContainerService --wait\", \"Microsoft.ContainerService registered in your subscription\", \"Failed to register Microsoft.ContainerService\")\n",
    "output = utils.run(\"az provider register --namespace Microsoft.KubernetesConfiguration --wait\", \"Microsoft.KubernetesConfiguration registered in your subscription\", \"Failed to register Microsoft.KubernetesConfiguration\")\n",
    "output = utils.run(\"az extension add --name k8s-extension\", \"az k8s-extension installed\", \"Failed to install az k8s-extension\")\n",
    "output = utils.run(\"az extension update --name k8s-extension\", \"az k8s-extension updated\", \"Failed to update az k8s-extension\")\n",
    "output = utils.run(\"az extension add --name aks-preview\", \"az aks-preview extension installed\", \"Failed to install az aks-preview extension\")\n",
    "output = utils.run(\"az extension update --name aks-preview\", \"az aks-preview extension updated\", \"Failed to update az aks-preview extension\")\n"
   ]
  },
  {
   "cell_type": "markdown",
   "metadata": {},
   "source": [
    "<a id='2'></a>\n",
    "### 2️⃣ Create resource group, storage account for the terraform state and prepare the deployment\n",
    "\n",
    "All resources deployed in this lab will be created within the designated resource group. "
   ]
  },
  {
   "cell_type": "code",
   "execution_count": null,
   "metadata": {},
   "outputs": [],
   "source": [
    "import shutil\n",
    "\n",
    "utils.create_resource_group(True, tfstate_resource_group_name, resource_group_location)\n",
    "\n",
    "output = utils.run(f\"az storage account create --name {tfstate_storage_account_name} --resource-group {tfstate_resource_group_name} --location {resource_group_location} --sku Standard_RAGRS --kind StorageV2\", \"Storage account created\", \"Failed to create storage account\")\n",
    "\n",
    "output = utils.run(f\"az storage container create --name {tfstate_storage_account_container_name}  --account-name {tfstate_storage_account_name} --resource-group {tfstate_resource_group_name}\", \"Storage container created\", \"Failed to create storage container\")\n",
    "\n",
    "output = utils.run(f\"git clone {flyte_deploy_repo} .temp/deploy-flyte\", \"Cloned deploy-flyte repo\", \"Failed to clone deploy-flyte repo\")\n",
    "\n",
    "shutil.copyfile(f\"{notebook_path}/resource_group.tf\", f\"{notebook_path}/.temp/deploy-flyte/environments/azure/flyte-core/resource_group.tf\")\n",
    "shutil.copyfile(f\"{notebook_path}/variables.tf\", f\"{notebook_path}/.temp/deploy-flyte/environments/azure/flyte-core/variables.tf\")\n",
    "\n",
    "backend_tfvars_content = f'''\n",
    "resource_group_name  = \"{tfstate_resource_group_name}\"\n",
    "storage_account_name = \"{tfstate_storage_account_name}\"\n",
    "container_name       = \"{tfstate_storage_account_container_name}\" #Storage container to store state\n",
    "key                  = \"flyte-on-azure/terraform.tfstate\"\n",
    "'''\n",
    "with open(f'{notebook_path}/.temp/deploy-flyte/environments/azure/flyte-core/backend.tfvars', 'w') as backend_tfvars_file:\n",
    "    backend_tfvars_file.write(backend_tfvars_content)\n",
    "\n",
    "main_tfvars_content = f'''\n",
    "resource_group_name = \"{resource_group_name}\"\n",
    "azure_region        = \"{resource_group_location}\"\n",
    "subscription_id     = \"{subscription_id}\"\n",
    "tenant_id           = \"{tenant_id}\"\n",
    "'''\n",
    "with open(f'{notebook_path}/.temp/deploy-flyte/environments/azure/flyte-core/main.tfvars', 'w') as main_tfvars_file:\n",
    "    main_tfvars_file.write(main_tfvars_content)\n",
    "\n",
    "locals_tf_content = \"locals {\" + f'''\n",
    "  flyte_domain_label = \"{aks_dns_label}\" #Used to build the DNS name of your deployment\n",
    "  environment        = \"{flyte_environment}\"\n",
    "  tenant             = \"{flyte_tenant}\"\n",
    "   #You must replace this email address with your own.\n",
    "  # Let's Encrypt will use this to contact you about expiring\n",
    "  # certificates, and issues related to your account.\n",
    "  email    =             \"noreply@{flyte_tenant}.org\"\n",
    "\n",
    "# Change this only if you need to add more projects in the default installation name\n",
    "# Learn more about Flyte projects and domains: https://docs.flyte.org/en/latest/concepts/projects.html - https://docs.flyte.org/en/latest/concepts/domains.html\n",
    "  flyte_projects     = [\"{flyte_project_name}\"]\n",
    "  flyte_domains      = [\"development\", \"staging\", \"production\"]\n",
    "''' + \"}\"\n",
    "with open(f'{notebook_path}/.temp/deploy-flyte/environments/azure/flyte-core/locals.tf', 'w') as locals_tf_file:\n",
    "    locals_tf_file.write(locals_tf_content)\n",
    "\n",
    "\n"
   ]
  },
  {
   "cell_type": "markdown",
   "metadata": {},
   "source": [
    "<a id='3'></a>\n",
    "### 3️⃣ Intialize terraform and create the deployment plan\n"
   ]
  },
  {
   "cell_type": "code",
   "execution_count": null,
   "metadata": {},
   "outputs": [],
   "source": [
    "%cd .temp/deploy-flyte/environments/azure/flyte-core\n",
    "\n",
    "# Intialize terraform\n",
    "! terraform init -upgrade -backend=true -backend-config=backend.tfvars\n",
    "\n",
    "! terraform plan -var-file=main.tfvars -out=flyte.plan\n",
    "\n",
    "%cd {notebook_path}\n"
   ]
  },
  {
   "cell_type": "markdown",
   "metadata": {},
   "source": [
    "<a id='4'></a>\n",
    "### 4️⃣ Apply the Terraform plan to deploy the resources"
   ]
  },
  {
   "cell_type": "code",
   "execution_count": null,
   "metadata": {},
   "outputs": [],
   "source": [
    "%cd .temp/deploy-flyte/environments/azure/flyte-core\n",
    "\n",
    "! terraform apply flyte.plan\n",
    "\n",
    "%cd {notebook_path}\n"
   ]
  },
  {
   "cell_type": "markdown",
   "metadata": {},
   "source": [
    "<a id='5'></a>\n",
    "### 5️⃣ Get deployment outputs"
   ]
  },
  {
   "cell_type": "code",
   "execution_count": null,
   "metadata": {},
   "outputs": [],
   "source": [
    "%cd .temp/deploy-flyte/environments/azure/flyte-core\n",
    "\n",
    "# retrieve terraform outputs\n",
    "output = utils.run(f\"terraform output -json\")\n",
    "if output.success and output.json_data:\n",
    "    aks_endpoint = output.json_data['cluster_endpoint']['value']\n",
    "    utils.print_info(f\"AKS endpoint: {aks_endpoint}\")\n",
    "\n",
    "%cd {notebook_path}"
   ]
  },
  {
   "cell_type": "markdown",
   "metadata": {},
   "source": [
    "<a id='6'></a>\n",
    "### 6️⃣ Connect to the AKS cluster\n",
    "Configure kubectl to connect to your Kubernetes cluster using the [az aks get-credentials](https://learn.microsoft.com/en-us/cli/azure/aks?view=azure-cli-latest#az-aks-get-credentials) command. This command downloads credentials and configures the Kubernetes CLI to use them."
   ]
  },
  {
   "cell_type": "code",
   "execution_count": null,
   "metadata": {},
   "outputs": [],
   "source": [
    "aks_resource_name = \"flyte-lab-flytetf\"\n",
    "output = utils.run(f\"az aks get-credentials --resource-group {resource_group_name} --name {aks_resource_name} --overwrite-existing\",\n",
    "             f\"Credentials for AKS cluster '{aks_resource_name}' configured\",\n",
    "             f\"Failed to configure credentials for AKS cluster '{aks_resource_name}'\")\n",
    "\n",
    "output = utils.run(f\"az aks show --resource-group {resource_group_name} --name {aks_resource_name} --only-show-errors\",\n",
    "            f\"AKS cluster '{aks_resource_name}' retrieved\",\n",
    "            f\"Failed to retrieve AKS cluster '{aks_resource_name}'\")\n",
    "if output.success and output.json_data:\n",
    "    aks_node_resource_group = output.json_data.get('nodeResourceGroup')\n",
    "    aks_oidc_issuer = output.json_data.get(\"oidcIssuerProfile\").get(\"issuerUrl\")\n",
    "    print(aks_node_resource_group)\n",
    "\n",
    "output = utils.run(f\"kubectl get services ingress-nginx-controller -o wide -n ingress -o json\", \"Retrieved lb ip\", \"Failed to retrieve lb ip\")\n",
    "if output.success and output.json_data:\n",
    "    lb_ip = output.json_data['status']['loadBalancer']['ingress'][0]['ip']\n",
    "output = utils.run(f\"az network public-ip list --resource-group {aks_node_resource_group} --query \\\"[?ipAddress=='{lb_ip}']\\\"\", \"Retrieved public ip\", \"Failed to retrieve public ip\") \n",
    "if output.success and output.json_data:\n",
    "    ip_id = output.json_data[0]['id']\n",
    "    print(ip_id)"
   ]
  },
  {
   "cell_type": "code",
   "execution_count": null,
   "metadata": {},
   "outputs": [],
   "source": [
    "\n",
    "flyte_identity_name = \"flyte-lab-flyte-user\"\n",
    "\n",
    "output = utils.run(f\"az identity show -g {aks_node_resource_group} -n {flyte_identity_name} --only-show-errors\", \"Identity retrieved\", \"Failed to retrieve identity\")\n",
    "if output.success and output.json_data:\n",
    "    aks_resource_principal_id = output.json_data['principalId']\n",
    "    print(f\"AKS Resource Principal Id: {aks_resource_principal_id}\")\n",
    "\n",
    "output = utils.run(f\"az role assignment create --assignee {aks_resource_principal_id} --scope /subscriptions/{subscription_id}/resourcegroups/{resource_group_name}  --role Contributor\", \"Role assigned\", \"Failed to assign role\")\n",
    "\n",
    "\n",
    "output = utils.run(f\"az identity federated-credential create --name kaito-federated-identity --identity-name {flyte_identity_name} -g {aks_node_resource_group} --issuer {aks_oidc_issuer} --subject system:serviceaccount:flytesnacks-development:default --audience api://AzureADTokenExchange\", \"Federated credential created\", \"Failed to create federated credential\")  \n",
    "print(output.text)\n"
   ]
  },
  {
   "cell_type": "markdown",
   "metadata": {},
   "source": [
    "<a id='7'></a>\n",
    "### 7️⃣ Uptdate the dns on the load balancer public IP\n"
   ]
  },
  {
   "cell_type": "code",
   "execution_count": null,
   "metadata": {},
   "outputs": [],
   "source": [
    "\n",
    "utils.run(f\"az network public-ip update --ids {ip_id} --dns-name {aks_dns_label}\", \"Updated public ip with dns label\", \"Failed to update public ip with dns label\")\n",
    "\n",
    "config_content = f'''\n",
    "admin:\n",
    "  # For GRPC endpoints you might want to use dns:///flyte.myexample.com\n",
    "  endpoint: dns:///{aks_endpoint}\n",
    "  insecure: false # Set to false to enable TLS/SSL connection (not recommended except on local sandbox deployment).\n",
    "'''\n",
    "with open(\"config.yaml\", 'w') as config_file:\n",
    "    config_file.write(config_content)\n",
    "\n"
   ]
  },
  {
   "cell_type": "markdown",
   "metadata": {},
   "source": [
    "<a id='8'></a>\n",
    "### 8️⃣ Register and run a workflow on the AKS Flyte cluster\n"
   ]
  },
  {
   "cell_type": "code",
   "execution_count": null,
   "metadata": {},
   "outputs": [],
   "source": [
    "os.environ[\"FLYTECTL_CONFIG\"] = f\"{notebook_path}/config.yaml\"\n",
    "\n",
    "output = utils.run(\"pyflyte run --remote workflows/hello_world.py my_wf\", \"Started workflow execution\", \"Failed to start workflow execution\")\n",
    "print(output.text)\n"
   ]
  },
  {
   "cell_type": "markdown",
   "metadata": {},
   "source": [
    "<a id='clean'></a>\n",
    "### 🗑️ Clean up resources\n",
    "When you're finished with the lab, you should remove all your deployed resources from Azure to avoid extra charges and keep your Azure subscription uncluttered. Use the [clean-up-resources notebook](clean-up-resources.ipynb) for that."
   ]
  }
 ],
 "metadata": {
  "kernelspec": {
   "display_name": "Python 3",
   "language": "python",
   "name": "python3"
  },
  "language_info": {
   "codemirror_mode": {
    "name": "ipython",
    "version": 3
   },
   "file_extension": ".py",
   "mimetype": "text/x-python",
   "name": "python",
   "nbconvert_exporter": "python",
   "pygments_lexer": "ipython3",
   "version": "3.12.6"
  }
 },
 "nbformat": 4,
 "nbformat_minor": 2
}
