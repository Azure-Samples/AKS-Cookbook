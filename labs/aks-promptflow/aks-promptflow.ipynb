{
 "cells": [
  {
   "cell_type": "markdown",
   "metadata": {},
   "source": [
    "# AKS Cookbook\n",
    "\n",
    "## 🧪 Prompt Flow on AKS\n",
    "\n",
    "![visual](visual.png)\n",
    "\n",
    "Playground to try the [Azure AI Studio Prompt Flow](https://learn.microsoft.com/en-us/azure/ai-studio/how-to/prompt-flow) with AKS.  \n",
    "Prompt flow is a development tool designed to streamline the entire development cycle of AI applications powered by Large Language Models (LLMs). Prompt flow provides a comprehensive solution that simplifies the process of prototyping, experimenting, iterating, and deploying your AI applications.  \n",
    "Prompt flow is available independently as an open-source project on [GitHub](https://github.com/microsoft/promptflow).\n",
    "\n",
    "▶️ Click on the `Run All` button to execute all the subsequent steps in sequence, or run each step individually by executing the cells one at a time.\n",
    "\n",
    "### TOC\n",
    "- [📖 Prerequisites](#prerequisites)\n",
    "- [0️⃣ Initialize notebook variables](#0)\n",
    "- [1️⃣ Create the Azure Resource Group](#1)\n",
    "- [2️⃣ Create deployment using 🦾 Bicep](#2)\n",
    "- [3️⃣ Get the deployment outputs](#3)\n",
    "- [4️⃣ Connect to the AKS cluster](#4)\n",
    "- [5️⃣ Enable Prompt Flow tracing (optional)](#5)\n",
    "- [6️⃣ Update the connection with APIM Gateway URL and APIM Subscription Key](#6)\n",
    "- [🧪 Test the Flow locally](#localtest)\n",
    "- [7️⃣ Create the Flow in the AI Studio Project (optional)](#7)\n",
    "- [8️⃣ Build the Flow in the Docker format](#8)\n",
    "- [9️⃣ Deploy the Flow to an Azure Container App](#9)\n",
    "- [🧪 Test the Flow through APIM](#requests)\n",
    "- [🔍 Analyze Application Insights requests](#portal)\n",
    "- [🗑️ Clean up resources](#clean)\n",
    "\n"
   ]
  },
  {
   "cell_type": "markdown",
   "metadata": {},
   "source": [
    "<a id='prerequisites'></a>\n",
    "### 📖 Prerequisites\n",
    "Install the following prerequisites for this demo"
   ]
  },
  {
   "cell_type": "code",
   "execution_count": null,
   "metadata": {},
   "outputs": [],
   "source": [
    "import os, utils\n",
    "output = utils.run(f\"pip install keyrings.alt promptflow promptflow-tools promptflow-azure\")"
   ]
  },
  {
   "cell_type": "markdown",
   "metadata": {},
   "source": [
    "<a id='0'></a>\n",
    "### 0️⃣ Initialize notebook variables\n",
    "You can use this notebook with existing resources or to create the necessary resources.  \n",
    "Adjust the location parameters according your preferences and on the [product availability by Azure region](https://azure.microsoft.com/en-us/explore/global-infrastructure/products-by-region/?cdn=disable)."
   ]
  },
  {
   "cell_type": "code",
   "execution_count": null,
   "metadata": {},
   "outputs": [],
   "source": [
    "import os, time, json, requests, utils\n",
    "\n",
    "deployment_name = os.path.basename(os.path.dirname(globals()['__vsc_ipynb_file__']))\n",
    "resource_group_name = f\"lab-{deployment_name}\" # change the name to match your naming convention\n",
    "resource_group_location = \"eastus2\"\n",
    "aks_prefix_name = \"aks\"\n",
    "aks_nodepool_count = 1\n",
    "aks_nodepool_vm_size = 'standard_d2s_v3'\n",
    "acr_prefix_name = 'acr'\n",
    "\n",
    "openai_prefix_name = \"openai\"\n",
    "openai_resources_sku = \"S0\"\n",
    "openai_model_name = \"gpt-35-turbo\"\n",
    "openai_model_version = \"0125\"\n",
    "openai_deployment_name = \"gpt-35-turbo\"\n",
    "\n",
    "log_analytics_prefix_name = \"workspace\"\n",
    "app_insights_prefix_name = 'insights'\n",
    "\n",
    "ai_studio_hub_prefix_name = 'hub'\n",
    "ai_studio_project_name = 'project'\n",
    "storage_account_prefix_name = 'storage'\n",
    "keyvault_prefix_name = 'keyvault'\n",
    "\n",
    "flow_name = 'basic-chat' # the local folder must have the same name\n",
    "\n",
    "utils.print_ok('Notebook initialized')"
   ]
  },
  {
   "cell_type": "markdown",
   "metadata": {},
   "source": [
    "<a id='1'></a>\n",
    "### 1️⃣ Verify the Azure CLI and connected Azure subscription\n",
    "The following commands ensure that you have the latest version of the Azure CLI and relevant extensions installed while also verifying that the Azure CLI is connected to your Azure subscription."
   ]
  },
  {
   "cell_type": "code",
   "execution_count": null,
   "metadata": {},
   "outputs": [],
   "source": [
    "output = utils.run(\"az account show\", \"Retrieved az account\", \"Failed to get the current az account\")\n",
    "if output.success and output.json_data:\n",
    "    current_user = output.json_data['user']['name']\n",
    "    subscription_id = output.json_data['id']\n",
    "    tenant_id = output.json_data['tenantId']\n",
    "output = utils.run(\"az provider register --namespace Microsoft.ContainerService --wait\", \"Microsoft.ContainerService registered in your subscription\", \"Failed to register Microsoft.ContainerService\")\n",
    "output = utils.run(\"az provider register --namespace Microsoft.KubernetesConfiguration --wait\", \"Microsoft.KubernetesConfiguration registered in your subscription\", \"Failed to register Microsoft.KubernetesConfiguration\")\n",
    "output = utils.run(\"az extension add --name k8s-extension\", \"az k8s-extension installed\", \"Failed to install az k8s-extension\")\n",
    "output = utils.run(\"az extension update --name k8s-extension\", \"az k8s-extension updated\", \"Failed to update az k8s-extension\")\n",
    "output = utils.run(\"az extension add --name aks-preview\", \"az aks-preview extension installed\", \"Failed to install az aks-preview extension\")\n",
    "output = utils.run(\"az extension update --name aks-preview\", \"az aks-preview extension updated\", \"Failed to update az aks-preview extension\")\n"
   ]
  },
  {
   "cell_type": "markdown",
   "metadata": {},
   "source": [
    "<a id='2'></a>\n",
    "### 2️⃣ Create deployment with BICEP 🦾\n",
    "All resources deployed in this lab will be created within the designated resource group.   \n",
    "The following step creates an AKS cluster using a BICEP deployment. "
   ]
  },
  {
   "cell_type": "code",
   "execution_count": null,
   "metadata": {},
   "outputs": [],
   "source": [
    "utils.create_resource_group(True, resource_group_name, resource_group_location)\n",
    "bicep_parameters = {\n",
    "    \"$schema\": \"https://schema.management.azure.com/schemas/2019-04-01/deploymentParameters.json#\",\n",
    "    \"contentVersion\": \"1.0.0.0\",\n",
    "    \"parameters\": {\n",
    "        \"aksPrefixName\": { \"value\": aks_prefix_name },\n",
    "        \"nodePoolCount\": { \"value\": aks_nodepool_count },\n",
    "        \"nodePoolVMSize\": { \"value\": aks_nodepool_vm_size },\n",
    "        \"acrPrefixName\": { \"value\": acr_prefix_name },\n",
    "        \"openAIPrefixName\": { \"value\": openai_prefix_name },\n",
    "        \"openAIDeploymentName\": { \"value\": openai_deployment_name },\n",
    "        \"openAISku\": { \"value\": openai_resources_sku },\n",
    "        \"openAIModelName\": { \"value\": openai_model_name },\n",
    "        \"openAIModelVersion\": { \"value\": openai_model_version },\n",
    "        \"logAnalyticsPrefixName\": { \"value\": log_analytics_prefix_name },\n",
    "        \"applicationInsightsPrefixName\": { \"value\": app_insights_prefix_name },\n",
    "        \"aiStudioHubPrefixName\": { \"value\": ai_studio_hub_prefix_name },\n",
    "        \"aiStudioProjectName\": { \"value\": ai_studio_project_name },\n",
    "        \"storageAccountPrefixName\": { \"value\": storage_account_prefix_name }, \n",
    "        \"keyVaultPrefixName\": { \"value\": keyvault_prefix_name }\n",
    "    }\n",
    "}    \n",
    "with open('params.json', 'w') as bicep_parameters_file:\n",
    "    bicep_parameters_file.write(json.dumps(bicep_parameters))\n",
    "\n",
    "output = utils.run(f\"az deployment group create --name {deployment_name} --resource-group {resource_group_name} --template-file main.bicep --parameters params.json\", \n",
    "                f\"Deployment '{deployment_name}' succeeded\", f\"Deployment '{deployment_name}' failed\")\n"
   ]
  },
  {
   "cell_type": "markdown",
   "metadata": {},
   "source": [
    "<a id='3'></a>\n",
    "### 3️⃣ Retrieve deployment outputs"
   ]
  },
  {
   "cell_type": "code",
   "execution_count": null,
   "metadata": {},
   "outputs": [],
   "source": [
    "output = utils.run(f\"az deployment group show --name {deployment_name} -g {resource_group_name}\", f\"Retrieved deployment: {deployment_name}\", f\"Failed to retrieve deployment: {deployment_name}\")\n",
    "if output.success and output.json_data:\n",
    "    aks_resource_name = utils.get_deployment_output(output, 'aksResourceName', 'AKS Resource Name')\n",
    "    acr_resource_name = utils.get_deployment_output(output, 'acrResourceName', 'ACR Resource Name')\n",
    "    openai_api_endpoint = utils.get_deployment_output(output, 'openAIEndpoint', 'OpenAI API Endpoint')\n",
    "    openai_api_key = utils.get_deployment_output(output, 'openAIKey')\n",
    "    ml_project_name = utils.get_deployment_output(output, 'projectName', 'Project Name')\n",
    "    ml_project_id = utils.get_deployment_output(output, 'projectId', 'Project Id')\n",
    "\n"
   ]
  },
  {
   "cell_type": "markdown",
   "metadata": {},
   "source": [
    "<a id='4'></a>\n",
    "### 4️⃣ Connect to the AKS cluster\n",
    "Configure kubectl to connect to your Kubernetes cluster using the [az aks get-credentials](https://learn.microsoft.com/en-us/cli/azure/aks?view=azure-cli-latest#az-aks-get-credentials) command. This command downloads credentials and configures the Kubernetes CLI to use them."
   ]
  },
  {
   "cell_type": "code",
   "execution_count": null,
   "metadata": {},
   "outputs": [],
   "source": [
    "output = utils.run(f\"az aks get-credentials --resource-group {resource_group_name} --name {aks_resource_name} --overwrite-existing\",\n",
    "             f\"Credentials for AKS cluster '{aks_resource_name}' configured\",\n",
    "             f\"Failed to configure credentials for AKS cluster '{aks_resource_name}'\")\n"
   ]
  },
  {
   "cell_type": "markdown",
   "metadata": {},
   "source": [
    "<a id='5'></a>\n",
    "### 5️⃣ Enable Prompt Flow tracing (optional)\n",
    "\n",
    "Prompt flow [tracing feature](https://microsoft.github.io/promptflow/how-to-guides/tracing/index.html) enables users to trace LLM calls, functions and even LLM frameworks. Besides, with promptflow[azure] installed, prompt flow can also log traces to an Azure ML workspace or Azure AI project, which makes it possible to share traces with your team members."
   ]
  },
  {
   "cell_type": "code",
   "execution_count": null,
   "metadata": {},
   "outputs": [],
   "source": [
    "! pf config set trace.destination=azureml:/{ml_project_id}"
   ]
  },
  {
   "cell_type": "markdown",
   "metadata": {},
   "source": [
    "<a id='6'></a>\n",
    "### 6️⃣ Update the connection \n",
    "\n"
   ]
  },
  {
   "cell_type": "code",
   "execution_count": null,
   "metadata": {},
   "outputs": [],
   "source": [
    "! pf connection create --file ./{flow_name}/azure_openai.yaml --set api_key={openai_api_key} api_base={openai_api_endpoint} --name open_ai_connection"
   ]
  },
  {
   "cell_type": "markdown",
   "metadata": {},
   "source": [
    "<a id='localtest'></a>\n",
    "### 🧪 Test the Flow locally\n"
   ]
  },
  {
   "cell_type": "code",
   "execution_count": null,
   "metadata": {},
   "outputs": [],
   "source": [
    "! pf flow test --flow {flow_name} --inputs question=\"What's OpenAI?\""
   ]
  },
  {
   "cell_type": "markdown",
   "metadata": {},
   "source": [
    "<a id='7'></a>\n",
    "### 7️⃣  Create the Flow in the AI Studio Project (optional)\n",
    "\n",
    "This feature is useful for sharing the flow with other users and leveraging the capabilities of Azure AI Studio. Open the [docs](https://microsoft.github.io/promptflow/cloud/azureai/manage-flows.html#create-a-flow) to learn more."
   ]
  },
  {
   "cell_type": "code",
   "execution_count": null,
   "metadata": {},
   "outputs": [],
   "source": [
    "! pfazure flow create --flow {flow_name} --set display_name={flow_name} type=chat description=\"Basic Chat Flow\" -g {resource_group_name} -w {ml_project_name}\n"
   ]
  },
  {
   "cell_type": "markdown",
   "metadata": {},
   "source": [
    "<a id='8'></a>\n",
    "### 8️⃣ Build the Flow in the Docker format\n",
    "\n",
    "This step will generate a build folder with a Dockerfile and prompt flow artifacts. Open the [docs](https://microsoft.github.io/promptflow/how-to-guides/deploy-a-flow/deploy-using-docker.html) to learn more.\n"
   ]
  },
  {
   "cell_type": "code",
   "execution_count": null,
   "metadata": {},
   "outputs": [],
   "source": [
    "! pf flow build --source {flow_name} --output build --format docker"
   ]
  },
  {
   "cell_type": "markdown",
   "metadata": {},
   "source": [
    "<a id='9'></a>\n",
    "### 9️⃣ Deploy the Flow on AKS"
   ]
  },
  {
   "cell_type": "code",
   "execution_count": null,
   "metadata": {},
   "outputs": [],
   "source": [
    "utils.run(f\"az acr build --image {flow_name}:latest --resource-group {resource_group_name} --registry {acr_resource_name} --file build/Dockerfile build/. --no-logs\", \"Image was successfully built\", \"Failed to build the image\")\n",
    "utils.run(f\"kubectl create configmap openai-config --from-literal=openai-key={openai_api_key}\")\n",
    "\n",
    "utils.run(f\"kubectl apply -f {flow_name}/manifest.yaml\")\n",
    "utils.run(f\"kubectl set image deployment {flow_name} {flow_name}={acr_resource_name}.azurecr.io/{flow_name}:latest\")\n",
    "utils.run(f\"kubectl rollout restart deployment/{flow_name}\")\n"
   ]
  },
  {
   "cell_type": "markdown",
   "metadata": {},
   "source": [
    "<a id='requests'></a>\n",
    "### 🧪 Test the Flow\n"
   ]
  },
  {
   "cell_type": "code",
   "execution_count": null,
   "metadata": {},
   "outputs": [],
   "source": [
    "wait_time = 60 # in seconds\n",
    "sleep_time = 5 # in seconds\n",
    "request_timeout = 60 # in seconds\n",
    "message = \"Application is not ready yet. Check the logs.\"\n",
    "while wait_time - sleep_time > 0:\n",
    "    output = utils.run(\"kubectl get pods -l app=basic-chat -o jsonpath=\\\"{..status.phase}\\\"\")\n",
    "    if output.success and output.text == \"Running\":\n",
    "        output = utils.run(\"kubectl get service basic-chat --output jsonpath={..status.loadBalancer.ingress[0]}\")\n",
    "        if output.success and output.json_data:\n",
    "            ingress_ip = output.json_data['ip']\n",
    "            utils.print_info(f\"Service External IP: {ingress_ip}\")\n",
    "            try:\n",
    "                response = requests.get(f\"http://{ingress_ip}\", timeout=request_timeout)\n",
    "                if (response.status_code == 200):\n",
    "                    utils.print_ok(f\"Application ready @ http://{ingress_ip}\")\n",
    "                    message = None\n",
    "                    break\n",
    "            except:\n",
    "                message = \"The application is currently unresponsive...\"\n",
    "    wait_time -= sleep_time\n",
    "    time.sleep(sleep_time)\n",
    "if message:\n",
    "    utils.print_warning(message)\n",
    "else:    \n",
    "    response = requests.post(f\"http://{ingress_ip}/score\", json = {\"question\": \"Which is the biggest football club in Portugal?\"})\n",
    "    if (response.status_code == 200):\n",
    "        data = json.loads(response.text)\n",
    "        print(\"💬 \", data.get(\"answer\"))\n",
    "    else:\n",
    "        print(response.text)\n"
   ]
  },
  {
   "cell_type": "markdown",
   "metadata": {},
   "source": [
    "<a id='clean'></a>\n",
    "### 🗑️ Clean up resources\n",
    "When you're finished with the lab, you should remove all your deployed resources from Azure to avoid extra charges and keep your Azure subscription uncluttered. Use the [clean-up-resources notebook](clean-up-resources.ipynb) for that."
   ]
  }
 ],
 "metadata": {
  "kernelspec": {
   "display_name": "Python 3",
   "language": "python",
   "name": "python3"
  },
  "language_info": {
   "codemirror_mode": {
    "name": "ipython",
    "version": 3
   },
   "file_extension": ".py",
   "mimetype": "text/x-python",
   "name": "python",
   "nbconvert_exporter": "python",
   "pygments_lexer": "ipython3",
   "version": "3.12.6"
  }
 },
 "nbformat": 4,
 "nbformat_minor": 2
}
