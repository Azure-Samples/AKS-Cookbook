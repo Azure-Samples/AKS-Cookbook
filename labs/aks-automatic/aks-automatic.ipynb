{
 "cells": [
  {
   "cell_type": "markdown",
   "metadata": {},
   "source": [
    "### TOC\n",
    "- [0️⃣ Initialize notebook variables](#0)\n",
    "- [1️⃣ Set your Azure Subscription](#1)\n",
    "- [2️⃣ Create the Azure Resource Group](#2)\n",
    "- [3️⃣ Add the aks-preview extension to the Azure CLI](#3)\n",
    "- [4️⃣ Registration of preview features](#4)\n",
    "- [5️⃣ Create and connect to an AKS Automatic Cluster](#5)\n",
    "- [6️⃣ Verify the connection](#6)\n",
    "- [7️⃣ Deploy an application](#7)\n",
    "- [8️⃣ Test the application](#8)\n",
    "- [🗑️ Clean up resources](#clean)\n",
    "\n",
    "### Prerequisites\n",
    "- [Python 3.8 or later version](https://www.python.org/) installed\n",
    "- [Pandas Library](https://pandas.pydata.org/) and matplotlib installed\n",
    "- [VS Code](https://code.visualstudio.com/) installed with the [Jupyter notebook extension](https://marketplace.visualstudio.com/items?itemName=ms-toolsai.jupyter) enabled\n",
    "- [Azure CLI](https://learn.microsoft.com/en-us/cli/azure/install-azure-cli) installed\n",
    "- [An Azure Subscription](https://azure.microsoft.com/en-us/free/) with Contributor permissions\n",
    "- [Access granted to Azure OpenAI](https://aka.ms/oai/access) or just enable the mock service\n",
    "- [Sign in to Azure with Azure CLI](https://learn.microsoft.com/en-us/cli/azure/authenticate-azure-cli-interactively)"
   ]
  },
  {
   "cell_type": "markdown",
   "metadata": {},
   "source": [
    "<a id='0'></a>\n",
    "### 0️⃣ Initialize notebook variables\n",
    "\n",
    "- Resources will be suffixed by a unique string based on your subscription id.\n",
    "- Provide either the tenant and the subscription IDs, before running the lab.\n",
    "- Adjust the location parameters according your preferences and on the [product availability by Azure region.](https://azure.microsoft.com/en-us/explore/global-infrastructure/products-by-region/?cdn=disable&products=cognitive-services,api-management).\n",
    "- Ensure the Nodepool VM sizes are compatible with the selected location. If 'aks_node_vm_sizes' is unspecified, the deployment process will identify three available SKUs and attempt to use the first one that successfully deploys."
   ]
  },
  {
   "cell_type": "code",
   "execution_count": null,
   "metadata": {},
   "outputs": [],
   "source": [
    "import os\n",
    "import datetime\n",
    "import json\n",
    "import subprocess\n",
    "\n",
    "deployment_name = os.path.basename(os.path.dirname(globals()['__vsc_ipynb_file__']))\n",
    "resource_group_name = f\"lab-{deployment_name}\" # change the name to match your naming style\n",
    "resource_group_location = \"eastus2\"\n",
    "tenant_id = \"<your_tenant_id>\"\n",
    "subscription_id = \"<your_subscription_id>\"\n",
    "aks_resource_name = \"aks-automatic\"\n",
    "aks_resource_namespace = \"aks-store\"\n",
    "aks_node_vm_sizes = [ \"Standard_DC4ds_v3\" ]\n",
    "aks_store_demo_yaml = \"https://raw.githubusercontent.com/Azure-Samples/aks-store-demo/main/aks-store-ingress-quickstart.yaml\""
   ]
  },
  {
   "cell_type": "markdown",
   "metadata": {},
   "source": [
    "<a id='1'></a>\n",
    "### 1️⃣ Set your Azure Subscription\n",
    "Use this step to specify which Azure tenant and subscription should be used for subsequent Azure CLI commands."
   ]
  },
  {
   "cell_type": "code",
   "execution_count": null,
   "metadata": {},
   "outputs": [],
   "source": [
    "! az login --tenant {tenant_id}\n",
    "! az account set --subscription {subscription_id}"
   ]
  },
  {
   "cell_type": "markdown",
   "metadata": {},
   "source": [
    "<a id='2'></a>\n",
    "### 2️⃣ Create the Azure Resource Group\n",
    "All resources deployed in this lab will be created in the specified resource group. Skip this step if you want to use an existing resource group."
   ]
  },
  {
   "cell_type": "code",
   "execution_count": null,
   "metadata": {},
   "outputs": [],
   "source": [
    "resource_group_stdout = ! az group create --name {resource_group_name} --location {resource_group_location}\n",
    "if resource_group_stdout.n.startswith(\"ERROR\"):\n",
    "    print(resource_group_stdout)\n",
    "else:\n",
    "    print(\"✅ Azure Resource Group \", resource_group_name, \" created ⌚ \", datetime.datetime.now().time())\n"
   ]
  },
  {
   "cell_type": "markdown",
   "metadata": {},
   "source": [
    "<a id='3'></a>\n",
    "### 3️⃣ Add the aks-preview extension to the Azure CLI.\n",
    "Extensions are additional features that you can add to the Azure CLI to augment its capabilities, often providing early access to new or experimental features not yet available in the main release. The `--name aks-preview` specifies the name of the extension to add, which in this case is `aks-preview`, a collection of preview features for managing Azure Kubernetes Service (AKS) clusters. The `--allow-preview true` flag explicitly allows the installation of preview features, acknowledging that these features might not be fully tested or supported."
   ]
  },
  {
   "cell_type": "code",
   "execution_count": null,
   "metadata": {},
   "outputs": [],
   "source": [
    "! az extension add --name aks-preview --allow-preview true\n",
    "! az extension update --name aks-preview --allow-preview true"
   ]
  },
  {
   "cell_type": "markdown",
   "metadata": {},
   "source": [
    "<a id='4'></a>\n",
    "### 4️⃣ Registration of preview features.\n",
    "This step targets the registration of various preview features for Azure Kubernetes Service (AKS) under the Microsoft.ContainerService namespace."
   ]
  },
  {
   "cell_type": "code",
   "execution_count": null,
   "metadata": {},
   "outputs": [],
   "source": [
    "! az feature register --namespace Microsoft.ContainerService --name EnableAPIServerVnetIntegrationPreview\n",
    "! az feature register --namespace Microsoft.ContainerService --name NRGLockdownPreview\n",
    "! az feature register --namespace Microsoft.ContainerService --name SafeguardsPreview\n",
    "! az feature register --namespace Microsoft.ContainerService --name NodeAutoProvisioningPreview\n",
    "! az feature register --namespace Microsoft.ContainerService --name DisableSSHPreview\n",
    "! az feature register --namespace Microsoft.ContainerService --name AutomaticSKUPreview\n",
    "\n",
    "# Verify the registration status by using the az feature show command. It takes a few minutes for the status to show Registered.\n",
    "! az feature show --namespace Microsoft.ContainerService --name AutomaticSKUPreview\n",
    "\n",
    "# Once the feature 'AutomaticSKUPreview' is registered, invoking 'az provider register -n Microsoft.ContainerService' is required to get the change propagated.\n",
    "! az provider register -n Microsoft.ContainerService"
   ]
  },
  {
   "cell_type": "markdown",
   "metadata": {},
   "source": [
    "<a id='5'></a>\n",
    "### 5️⃣ Create and connect to an AKS Automatic Cluster.\n",
    "This step targets the registration of various preview features for Azure Kubernetes Service (AKS) under the Microsoft.ContainerService namespace."
   ]
  },
  {
   "cell_type": "code",
   "execution_count": null,
   "metadata": {},
   "outputs": [],
   "source": [
    "def run_command(command):\n",
    "    try:\n",
    "        output = subprocess.check_output(command, shell=True, stderr=subprocess.STDOUT)\n",
    "        return True, output.decode(\"utf-8\")\n",
    "    except subprocess.CalledProcessError as e:\n",
    "        return False, e.output.decode(\"utf-8\")\n",
    "    \n",
    "# Check if aks_node_vm_sizes is set  \n",
    "try:  \n",
    "    aks_node_vm_sizes  \n",
    "except NameError:  \n",
    "    aks_node_vm_sizes = None  \n",
    "  \n",
    "if not aks_node_vm_sizes:  \n",
    "    # Get the list of available VM sizes for AKS in the westeurope region  \n",
    "    success, output = run_command(\"az vm list-sizes --location {resource_group_location} --output json\")  \n",
    "  \n",
    "    if success:  \n",
    "        available_vm_sizes = json.loads(output)  \n",
    "        # Filter VM sizes with at least 2 CPUs and get the first 3 results  \n",
    "        filtered_vm_sizes = [vm['name'] for vm in available_vm_sizes if vm['numberOfCores'] >= 2][:3]  \n",
    "        aks_node_vm_sizes = filtered_vm_sizes  \n",
    "        print(\"Filtered VM sizes:\", aks_node_vm_sizes)  \n",
    "    else:  \n",
    "        print(\"Failed to get available VM sizes. Error:\", output)  \n",
    "        aks_node_vm_sizes = []  \n",
    "\n",
    "# Loop through SKUs and attempt to create AKS cluster\n",
    "for aks_node_vm_size in aks_node_vm_sizes:\n",
    "    print(f\"Trying node vm size: {aks_node_vm_size}\")\n",
    "    \n",
    "    bicep_parameters = {\n",
    "        \"$schema\": \"https://schema.management.azure.com/schemas/2019-04-01/deploymentParameters.json#\",\n",
    "        \"contentVersion\": \"1.0.0.0\",\n",
    "        \"parameters\": {\n",
    "            \"clusterName\": { \"value\": aks_resource_name },\n",
    "            \"location\": { \"value\": resource_group_location },\n",
    "            \"nodeVmSize\": { \"value\": aks_node_vm_size }\n",
    "        }\n",
    "    }\n",
    "    \n",
    "    with open('params.json', 'w') as bicep_parameters_file:\n",
    "        bicep_parameters_file.write(json.dumps(bicep_parameters))\n",
    "        \n",
    "    success, output = run_command(f\"az deployment group create --name {deployment_name} --resource-group {resource_group_name} --template-file \\\"main.bicep\\\" --parameters \\\"params.json\\\"\")\n",
    "    \n",
    "    if success:\n",
    "        print(\"AKS cluster created successfully with node vm size:\", aks_node_vm_size)\n",
    "        break\n",
    "    else:\n",
    "        print(\"Failed to create AKS cluster with node vm size:\", aks_node_vm_size)\n",
    "        print(\"Error:\", output)\n",
    "\n",
    "# If successful, get the AKS credentials\n",
    "if success:\n",
    "    _, get_cred_output = run_command(f\"az aks get-credentials --resource-group {resource_group_name} --name {aks_resource_name} --overwrite-existing\")\n",
    "    print(\"✅ Credentials obtained:\", get_cred_output)\n",
    "else:\n",
    "    print(\"Failed to create AKS cluster with any of the SKUs.\")"
   ]
  },
  {
   "cell_type": "markdown",
   "metadata": {},
   "source": [
    "<a id='6'></a>\n",
    "### 6️⃣ Verify the connection.\n",
    "You need kubelogin credential plugin installed - see https://github.com/Azure/kubelogin.\n",
    "Authentication & Authorization applied for AKS Automatic is \"Microsoft Entra ID authentication with Azure RBAC\"."
   ]
  },
  {
   "cell_type": "code",
   "execution_count": null,
   "metadata": {},
   "outputs": [],
   "source": [
    "! kubectl get nodes"
   ]
  },
  {
   "cell_type": "markdown",
   "metadata": {},
   "source": [
    "<a id='7'></a>\n",
    "### 7️⃣ Deploy an application.\n",
    "We will deploy the [AKS Store demo](https://github.com/Azure-Samples/aks-store-demo) application. We will use a manifest file to create all the objects required to run the application in the cluster.\n",
    "The manifest includes the following Kubernetes deployments and services:\n",
    "- Store front: Web application for customers to view products and place orders.\n",
    "- Product service: Shows product information.\n",
    "- Order service: Places orders.\n",
    "- Rabbit MQ: Message queue for an order queue."
   ]
  },
  {
   "cell_type": "code",
   "execution_count": null,
   "metadata": {},
   "outputs": [],
   "source": [
    "# Create a namespace\n",
    "! kubectl create namespace {aks_resource_namespace}\n",
    "\n",
    "# Deploy the application\n",
    "! kubectl apply -n {aks_resource_namespace} -f {aks_store_demo_yaml}"
   ]
  },
  {
   "cell_type": "markdown",
   "metadata": {},
   "source": [
    "<a id='8'></a>\n",
    "### 8️⃣ Test the application.\n",
    "When the application runs, a Kubernetes service exposes the application front end to the internet. This process can take a few minutes to complete."
   ]
  },
  {
   "cell_type": "code",
   "execution_count": null,
   "metadata": {},
   "outputs": [],
   "source": [
    "# Check status of the deployed pods\n",
    "! kubectl get pods -n {aks_resource_namespace}\n",
    "\n",
    "# Check for a public IP address for the store-front application. We will monitor progress until the public IP address is available.\n",
    "# Once the **ADDRESS** output is populated, the public IP address is available.\n",
    "! kubectl get ingress store-front -n {aks_resource_namespace} --watch"
   ]
  }
 ],
 "metadata": {
  "kernelspec": {
   "display_name": "Python 3",
   "language": "python",
   "name": "python3"
  },
  "language_info": {
   "codemirror_mode": {
    "name": "ipython",
    "version": 3
   },
   "file_extension": ".py",
   "mimetype": "text/x-python",
   "name": "python",
   "nbconvert_exporter": "python",
   "pygments_lexer": "ipython3",
   "version": "3.12.3"
  }
 },
 "nbformat": 4,
 "nbformat_minor": 2
}
