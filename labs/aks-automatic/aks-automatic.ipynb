{
 "cells": [
  {
   "cell_type": "markdown",
   "metadata": {},
   "source": [
    "### TOC\n",
    "- [0️⃣ Initialize notebook variables](#0)\n",
    "- [1️⃣ Set your Azure Subscription](#1)\n",
    "- [2️⃣ Create the Azure Resource Group](#2)\n",
    "- [3️⃣ Add the aks-preview extension to the Azure CLI](#3)\n",
    "- [4️⃣ Registration of preview features](#4)\n",
    "- [5️⃣ Create and connect to an AKS Automatic Cluster](#5)\n",
    "- [6️⃣ Verify the connection](#6)\n",
    "- [7️⃣ Deploy an application](#7)\n",
    "- [8️⃣ Test the application](#8)\n",
    "- [🗑️ Clean up resources](#clean)\n",
    "\n",
    "### Prerequisites\n",
    "- [Python 3.8 or later version](https://www.python.org/) installed\n",
    "- [Pandas Library](https://pandas.pydata.org/) and matplotlib installed\n",
    "- [VS Code](https://code.visualstudio.com/) installed with the [Jupyter notebook extension](https://marketplace.visualstudio.com/items?itemName=ms-toolsai.jupyter) enabled\n",
    "- [Azure CLI](https://learn.microsoft.com/en-us/cli/azure/install-azure-cli) installed\n",
    "- [An Azure Subscription](https://azure.microsoft.com/en-us/free/) with Contributor permissions\n",
    "- [Access granted to Azure OpenAI](https://aka.ms/oai/access) or just enable the mock service\n",
    "- [Sign in to Azure with Azure CLI](https://learn.microsoft.com/en-us/cli/azure/authenticate-azure-cli-interactively) and select the Azure Subscription that you want to use in the lab"
   ]
  },
  {
   "cell_type": "markdown",
   "metadata": {},
   "source": [
    "<a id='0'></a>\n",
    "### 0️⃣ Initialize notebook variables\n",
    "\n",
    "- Resources will be suffixed by a unique string based on your subscription id.\n",
    "- Provide either the tenant and the subscription IDs, before running the lab.\n",
    "- Adjust the location parameters according your preferences and on the [product availability by Azure region](https://azure.microsoft.com/en-us/explore/global-infrastructure/products-by-region/?cdn=disable&products=cognitive-services,api-management).\n",
    "- Ensure the Nodepool VM sizes are compatible with the selected location. If 'aks_node_vm_sizes' is unspecified, the deployment process will identify three available SKUs and attempt to use the first one that successfully deploys."
   ]
  },
  {
   "cell_type": "code",
   "execution_count": 5,
   "metadata": {},
   "outputs": [],
   "source": [
    "import os\n",
    "import datetime\n",
    "import json\n",
    "import subprocess\n",
    "\n",
    "deployment_name = os.path.basename(os.path.dirname(globals()['__vsc_ipynb_file__']))\n",
    "resource_group_name = f\"lab-{deployment_name}\" # change the name to match your naming style\n",
    "resource_group_location = \"eastus2\"\n",
    "cluster_admin_role_id = \"4abbcc35-e782-43d8-92c5-2d3f1bd2253f\" # https://learn.microsoft.com/en-us/azure/role-based-access-control/built-in-roles#azure-kubernetes-service-cluster-user-role\n",
    "aks_resource_name = \"aks-automatic\"\n",
    "aks_resource_namespace = \"aks-store\"\n",
    "aks_node_vm_sizes = [ \"Standard_DC4ds_v3\" ]\n",
    "aks_store_demo_yaml = \"https://raw.githubusercontent.com/Azure-Samples/aks-store-demo/main/aks-store-ingress-quickstart.yaml\""
   ]
  },
  {
   "cell_type": "markdown",
   "metadata": {},
   "source": [
    "<a id='1'></a>\n",
    "### 1️⃣ Set your Azure Subscription\n",
    "Use this step to specify which Azure tenant and subscription should be used for subsequent Azure CLI commands."
   ]
  },
  {
   "cell_type": "code",
   "execution_count": 12,
   "metadata": {},
   "outputs": [],
   "source": [
    "current_user_stdout = ! az account show --query user.name --output tsv\n",
    "current_user = current_user_stdout.n\n",
    "\n",
    "current_user_objectid_stdout = ! az ad signed-in-user show --query id -o tsv\n",
    "current_user_objectid = current_user_objectid_stdout.n\n"
   ]
  },
  {
   "cell_type": "markdown",
   "metadata": {},
   "source": [
    "<a id='2'></a>\n",
    "### 2️⃣ Create the Azure Resource Group\n",
    "All resources deployed in this lab will be created in the specified resource group. Skip this step if you want to use an existing resource group."
   ]
  },
  {
   "cell_type": "code",
   "execution_count": 7,
   "metadata": {},
   "outputs": [
    {
     "name": "stdout",
     "output_type": "stream",
     "text": [
      "✅ Azure Resource Group  lab-aks-automatic  created ⌚  12:22:47.775213\n"
     ]
    }
   ],
   "source": [
    "resource_group_stdout = ! az group create --name {resource_group_name} --location {resource_group_location}\n",
    "if resource_group_stdout.n.startswith(\"ERROR\"):\n",
    "    print(resource_group_stdout)\n",
    "else:\n",
    "    print(\"✅ Azure Resource Group \", resource_group_name, \" created ⌚ \", datetime.datetime.now().time())\n"
   ]
  },
  {
   "cell_type": "markdown",
   "metadata": {},
   "source": [
    "<a id='3'></a>\n",
    "### 3️⃣ Add the aks-preview extension to the Azure CLI.\n",
    "Extensions are additional features that you can add to the Azure CLI to augment its capabilities, often providing early access to new or experimental features not yet available in the main release. The `--name aks-preview` specifies the name of the extension to add, which in this case is `aks-preview`, a collection of preview features for managing Azure Kubernetes Service (AKS) clusters. The `--allow-preview true` flag explicitly allows the installation of preview features, acknowledging that these features might not be fully tested or supported."
   ]
  },
  {
   "cell_type": "code",
   "execution_count": 8,
   "metadata": {},
   "outputs": [
    {
     "name": "stderr",
     "output_type": "stream",
     "text": [
      "WARNING: Extension 'aks-preview' 7.0.0b3 is already installed.\n"
     ]
    }
   ],
   "source": [
    "! az extension add --name aks-preview --allow-preview true\n",
    "! az extension update --name aks-preview --allow-preview true"
   ]
  },
  {
   "cell_type": "markdown",
   "metadata": {},
   "source": [
    "<a id='4'></a>\n",
    "### 4️⃣ Registration of preview features.\n",
    "This step targets the registration of various preview features for Azure Kubernetes Service (AKS) under the Microsoft.ContainerService namespace."
   ]
  },
  {
   "cell_type": "code",
   "execution_count": 9,
   "metadata": {},
   "outputs": [
    {
     "name": "stdout",
     "output_type": "stream",
     "text": [
      "{"
     ]
    },
    {
     "name": "stderr",
     "output_type": "stream",
     "text": [
      "D:\\a\\_work\\1\\s\\build_scripts\\windows\\artifacts\\cli\\Lib\\site-packages\\cryptography/hazmat/backends/openssl/backend.py:17: UserWarning: You are using cryptography on a 32-bit Python on a 64-bit Windows Operating System. Cryptography will be significantly faster if you switch to using a 64-bit Python.\n",
      "WARNING: Once the feature 'EnableAPIServerVnetIntegrationPreview' is registered, invoking 'az provider register -n Microsoft.ContainerService' is required to get the change propagated\n"
     ]
    },
    {
     "name": "stdout",
     "output_type": "stream",
     "text": [
      "\n",
      "  \"id\": \"/subscriptions/9d4a14de-67d7-4029-a3b4-7a7e3e6581cf/providers/Microsoft.Features/providers/Microsoft.ContainerService/features/EnableAPIServerVnetIntegrationPreview\",\n",
      "  \"name\": \"Microsoft.ContainerService/EnableAPIServerVnetIntegrationPreview\",\n",
      "  \"properties\": {\n",
      "    \"state\": \"Registered\"\n",
      "  },\n",
      "  \"type\": \"Microsoft.Features/providers/features\"\n",
      "}\n",
      "{\n",
      "  \"id\": \"/subscriptions/9d4a14de-67d7-4029-a3b4-7a7e3e6581cf/providers/Microsoft.Features/providers/Microsoft.ContainerService/features/NRGLockdownPreview\",\n",
      "  \"name\": \"Microsoft.ContainerService/NRGLockdownPreview\",\n",
      "  \"properties\": {\n",
      "    \"state\": \"Registered\"\n",
      "  },\n",
      "  \"type\": \"Microsoft.Features/providers/features\"\n",
      "}\n"
     ]
    },
    {
     "name": "stderr",
     "output_type": "stream",
     "text": [
      "WARNING: Once the feature 'NRGLockdownPreview' is registered, invoking 'az provider register -n Microsoft.ContainerService' is required to get the change propagated\n"
     ]
    },
    {
     "name": "stdout",
     "output_type": "stream",
     "text": [
      "{\n",
      "  \"id\": \"/subscriptions/9d4a14de-67d7-4029-a3b4-7a7e3e6581cf/providers/Microsoft.Features/providers/Microsoft.ContainerService/features/SafeguardsPreview\",\n",
      "  \"name\": \"Microsoft.ContainerService/SafeguardsPreview\",\n",
      "  \"properties\": {\n",
      "    \"state\": \"Registered\"\n",
      "  },\n",
      "  \"type\": \"Microsoft.Features/providers/features\"\n",
      "}\n"
     ]
    },
    {
     "name": "stderr",
     "output_type": "stream",
     "text": [
      "WARNING: Once the feature 'SafeguardsPreview' is registered, invoking 'az provider register -n Microsoft.ContainerService' is required to get the change propagated\n"
     ]
    },
    {
     "name": "stdout",
     "output_type": "stream",
     "text": [
      "{\n",
      "  \"id\": \"/subscriptions/9d4a14de-67d7-4029-a3b4-7a7e3e6581cf/providers/Microsoft.Features/providers/Microsoft.ContainerService/features/NodeAutoProvisioningPreview\",\n",
      "  \"name\": \"Microsoft.ContainerService/NodeAutoProvisioningPreview\",\n",
      "  \"properties\": {\n",
      "    \"state\": \"Registered\"\n",
      "  },\n",
      "  \"type\": \"Microsoft.Features/providers/features\"\n",
      "}\n"
     ]
    },
    {
     "name": "stderr",
     "output_type": "stream",
     "text": [
      "WARNING: Once the feature 'NodeAutoProvisioningPreview' is registered, invoking 'az provider register -n Microsoft.ContainerService' is required to get the change propagated\n"
     ]
    },
    {
     "name": "stdout",
     "output_type": "stream",
     "text": [
      "{\n",
      "  \"id\": \"/subscriptions/9d4a14de-67d7-4029-a3b4-7a7e3e6581cf/providers/Microsoft.Features/providers/Microsoft.ContainerService/features/DisableSSHPreview\",\n",
      "  \"name\": \"Microsoft.ContainerService/DisableSSHPreview\",\n",
      "  \"properties\": {\n",
      "    \"state\": \"Registered\"\n",
      "  },\n",
      "  \"type\": \"Microsoft.Features/providers/features\"\n",
      "}\n"
     ]
    },
    {
     "name": "stderr",
     "output_type": "stream",
     "text": [
      "WARNING: Once the feature 'DisableSSHPreview' is registered, invoking 'az provider register -n Microsoft.ContainerService' is required to get the change propagated\n"
     ]
    },
    {
     "name": "stdout",
     "output_type": "stream",
     "text": [
      "{\n",
      "  \"id\": \"/subscriptions/9d4a14de-67d7-4029-a3b4-7a7e3e6581cf/providers/Microsoft.Features/providers/Microsoft.ContainerService/features/AutomaticSKUPreview\",\n",
      "  \"name\": \"Microsoft.ContainerService/AutomaticSKUPreview\",\n",
      "  \"properties\": {\n",
      "    \"state\": \"Registered\"\n",
      "  },\n",
      "  \"type\": \"Microsoft.Features/providers/features\"\n",
      "}\n"
     ]
    },
    {
     "name": "stderr",
     "output_type": "stream",
     "text": [
      "WARNING: Once the feature 'AutomaticSKUPreview' is registered, invoking 'az provider register -n Microsoft.ContainerService' is required to get the change propagated\n"
     ]
    },
    {
     "name": "stdout",
     "output_type": "stream",
     "text": [
      "{\n",
      "  \"id\": \"/subscriptions/9d4a14de-67d7-4029-a3b4-7a7e3e6581cf/providers/Microsoft.Features/providers/Microsoft.ContainerService/features/AutomaticSKUPreview\",\n",
      "  \"name\": \"Microsoft.ContainerService/AutomaticSKUPreview\",\n",
      "  \"properties\": {\n",
      "    \"state\": \"Registered\"\n",
      "  },\n",
      "  \"type\": \"Microsoft.Features/providers/features\"\n",
      "}\n"
     ]
    }
   ],
   "source": [
    "! az feature register --namespace Microsoft.ContainerService --name EnableAPIServerVnetIntegrationPreview\n",
    "! az feature register --namespace Microsoft.ContainerService --name NRGLockdownPreview\n",
    "! az feature register --namespace Microsoft.ContainerService --name SafeguardsPreview\n",
    "! az feature register --namespace Microsoft.ContainerService --name NodeAutoProvisioningPreview\n",
    "! az feature register --namespace Microsoft.ContainerService --name DisableSSHPreview\n",
    "! az feature register --namespace Microsoft.ContainerService --name AutomaticSKUPreview\n",
    "\n",
    "# Verify the registration status by using the az feature show command. It takes a few minutes for the status to show Registered.\n",
    "! az feature show --namespace Microsoft.ContainerService --name AutomaticSKUPreview\n",
    "\n",
    "# Once the feature 'AutomaticSKUPreview' is registered, invoking 'az provider register -n Microsoft.ContainerService' is required to get the change propagated.\n",
    "! az provider register -n Microsoft.ContainerService"
   ]
  },
  {
   "cell_type": "markdown",
   "metadata": {},
   "source": [
    "<a id='5'></a>\n",
    "### 5️⃣ Create and connect to an AKS Automatic Cluster.\n",
    "This step targets the registration of various preview features for Azure Kubernetes Service (AKS) under the Microsoft.ContainerService namespace."
   ]
  },
  {
   "cell_type": "code",
   "execution_count": 10,
   "metadata": {},
   "outputs": [
    {
     "name": "stdout",
     "output_type": "stream",
     "text": [
      "Trying node vm size: Standard_DC4ds_v3\n",
      "AKS cluster created successfully with node vm size: Standard_DC4ds_v3\n"
     ]
    }
   ],
   "source": [
    "def run_command(command):\n",
    "    try:\n",
    "        output = subprocess.check_output(command, shell=True, stderr=subprocess.STDOUT)\n",
    "        return True, output.decode(\"utf-8\")\n",
    "    except subprocess.CalledProcessError as e:\n",
    "        return False, e.output.decode(\"utf-8\")\n",
    "    \n",
    "# Check if aks_node_vm_sizes is set  \n",
    "try:  \n",
    "    aks_node_vm_sizes  \n",
    "except NameError:  \n",
    "    aks_node_vm_sizes = None  \n",
    "  \n",
    "if not aks_node_vm_sizes:  \n",
    "    # Get the list of available VM sizes for AKS in the westeurope region  \n",
    "    success, output = run_command(\"az vm list-sizes --location {resource_group_location} --output json\")  \n",
    "  \n",
    "    if success:  \n",
    "        available_vm_sizes = json.loads(output)  \n",
    "        # Filter VM sizes with at least 2 CPUs and get the first 3 results  \n",
    "        filtered_vm_sizes = [vm['name'] for vm in available_vm_sizes if vm['numberOfCores'] >= 2][:3]  \n",
    "        aks_node_vm_sizes = filtered_vm_sizes  \n",
    "        print(\"Filtered VM sizes:\", aks_node_vm_sizes)  \n",
    "    else:  \n",
    "        print(\"Failed to get available VM sizes. Error:\", output)  \n",
    "        aks_node_vm_sizes = []  \n",
    "\n",
    "# Loop through SKUs and attempt to create AKS cluster\n",
    "for aks_node_vm_size in aks_node_vm_sizes:\n",
    "    print(f\"Trying node vm size: {aks_node_vm_size}\")\n",
    "    \n",
    "    bicep_parameters = {\n",
    "        \"$schema\": \"https://schema.management.azure.com/schemas/2019-04-01/deploymentParameters.json#\",\n",
    "        \"contentVersion\": \"1.0.0.0\",\n",
    "        \"parameters\": {\n",
    "            \"clusterName\": { \"value\": aks_resource_name },\n",
    "            \"location\": { \"value\": resource_group_location },\n",
    "            \"nodeVmSize\": { \"value\": aks_node_vm_size }\n",
    "        }\n",
    "    }\n",
    "    \n",
    "    with open('params.json', 'w') as bicep_parameters_file:\n",
    "        bicep_parameters_file.write(json.dumps(bicep_parameters))\n",
    "\n",
    "    success, output = run_command(f\"az deployment group create --name {deployment_name} --resource-group {resource_group_name} --template-file \\\"main.bicep\\\" --parameters \\\"params.json\\\"\")\n",
    "    if success:\n",
    "        print(\"AKS cluster created successfully with node vm size:\", aks_node_vm_size)\n",
    "        break\n",
    "    else:\n",
    "        print(\"Failed to create AKS cluster with node vm size:\", aks_node_vm_size)\n",
    "        print(\"Error:\", output)"
   ]
  },
  {
   "cell_type": "markdown",
   "metadata": {},
   "source": [
    "<a id='6'></a>\n",
    "### 6️⃣ Get AKS credentials and verify the connection.\n",
    "You need kubelogin credential plugin installed - see https://github.com/Azure/kubelogin.\n",
    "\n",
    "Authentication & Authorization applied for AKS Automatic is \"Microsoft Entra ID authentication with Azure RBAC\".\n",
    "Check your user and the role you may want to assign, before running the below script."
   ]
  },
  {
   "cell_type": "code",
   "execution_count": 13,
   "metadata": {},
   "outputs": [
    {
     "name": "stdout",
     "output_type": "stream",
     "text": [
      "AKS ID: /subscriptions/9d4a14de-67d7-4029-a3b4-7a7e3e6581cf/resourcegroups/lab-aks-automatic/providers/Microsoft.ContainerService/managedClusters/aks-automatic\n",
      "{\n",
      "  \"condition\": null,\n",
      "  \"conditionVersion\": null,\n",
      "  \"createdBy\": null,\n",
      "  \"createdOn\": \"2024-08-09T11:48:12.355924+00:00\",\n",
      "  \"delegatedManagedIdentityResourceId\": null,\n",
      "  \"description\": null,\n",
      "  \"id\": \"/subscriptions/9d4a14de-67d7-4029-a3b4-7a7e3e6581cf/resourcegroups/lab-aks-automatic/providers/Microsoft.ContainerService/managedClusters/aks-automatic/providers/Microsoft.Authorization/roleAssignments/99c15e6f-87c3-45cb-8e25-b3bbaac06330\",\n",
      "  \"name\": \"99c15e6f-87c3-45cb-8e25-b3bbaac06330\",\n",
      "  \"principalId\": \"2919724f-d440-483b-89ba-192cfb82adb4\",\n",
      "  \"principalType\": \"User\",\n",
      "  \"resourceGroup\": \"lab-aks-automatic\",\n",
      "  \"roleDefinitionId\": \"/subscriptions/9d4a14de-67d7-4029-a3b4-7a7e3e6581cf/providers/Microsoft.Authorization/roleDefinitions/4abbcc35-e782-43d8-92c5-2d3f1bd2253f\",\n",
      "  \"scope\": \"/subscriptions/9d4a14de-67d7-4029-a3b4-7a7e3e6581cf/resourcegroups/lab-aks-automatic/providers/Microsoft.ContainerService/managedClusters/aks-automatic\",\n",
      "  \"type\": \"Microsoft.Authorization/roleAssignments\",\n",
      "  \"updatedBy\": \"2919724f-d440-483b-89ba-192cfb82adb4\",\n",
      "  \"updatedOn\": \"2024-08-09T11:48:13.361333+00:00\"\n",
      "}\n",
      "✅ kubelogin successful: \n"
     ]
    },
    {
     "name": "stderr",
     "output_type": "stream",
     "text": [
      "WARNING: The behavior of this command has been altered by the following extension: aks-preview\n",
      "WARNING: Merged \"aks-automatic\" as current context in C:\\Users\\alexviei\\.kube\\config\n"
     ]
    }
   ],
   "source": [
    "def run_command(command):  \n",
    "    try:  \n",
    "        output = subprocess.check_output(command, shell=True, stderr=subprocess.STDOUT)  \n",
    "        return True, output.decode(\"utf-8\")  \n",
    "    except subprocess.CalledProcessError as e:  \n",
    "        return False, e.output.decode(\"utf-8\")\n",
    "\n",
    "# Extract the AKS ID from the az aks show command output, filtering out any warning messages (if any).\n",
    "def extract_aks_id(output):  \n",
    "    \"\"\"  \n",
    "    Extracts the AKS ID from the az aks show command output, filtering out any warning messages.  \n",
    "    \"\"\"  \n",
    "    lines = output.strip().split(\"\\n\")  \n",
    "    for line in lines:  \n",
    "        if line.startswith(\"/subscriptions/\"):  \n",
    "            return line.strip()  \n",
    "    return None  \n",
    "\n",
    "# Assign the Azure Kubernetes Service Cluster Admin Role to the current user  \n",
    "# Get the AKS cluster ID  \n",
    "success, aks_id_output = run_command(f\"az aks show --resource-group {resource_group_name} --name {aks_resource_name} --query id -o tsv\")  \n",
    "if success:\n",
    "    aks_id = extract_aks_id(aks_id_output)  \n",
    "    if aks_id:  \n",
    "        print(f\"AKS ID: {aks_id}\")  \n",
    "\n",
    "    # Assign the Azure Kubernetes Service Cluster Admin Role to the current user  \n",
    "    ! az role assignment create --assignee {current_user_objectid} --role \"{cluster_admin_role_id}\" --scope {aks_id}\n",
    "else:  \n",
    "    print(\"Failed to get AKS cluster ID. Error:\", aks_id_output)\n",
    "\n",
    "# Now, use kubelogin to authenticate with AAD  \n",
    "success, kube_login_output = run_command(\"kubelogin convert-kubeconfig -l azurecli\")  \n",
    "if success:  \n",
    "    print(\"✅ kubelogin successful:\", kube_login_output)  \n",
    "else:  \n",
    "    print(\"Failed to use kubelogin. Error:\", kube_login_output)  \n",
    "\n",
    "! az aks get-credentials --resource-group {resource_group_name} --name {aks_resource_name} --overwrite-existing"
   ]
  },
  {
   "cell_type": "code",
   "execution_count": 14,
   "metadata": {},
   "outputs": [
    {
     "name": "stdout",
     "output_type": "stream",
     "text": [
      "^C\n"
     ]
    }
   ],
   "source": [
    "! kubectl get nodes"
   ]
  },
  {
   "cell_type": "markdown",
   "metadata": {},
   "source": [
    "<a id='7'></a>\n",
    "### 7️⃣ Deploy an application.\n",
    "We will deploy the [AKS Store demo](https://github.com/Azure-Samples/aks-store-demo) application. We will use a manifest file to create all the objects required to run the application in the cluster.\n",
    "The manifest includes the following Kubernetes deployments and services:\n",
    "- Store front: Web application for customers to view products and place orders.\n",
    "- Product service: Shows product information.\n",
    "- Order service: Places orders.\n",
    "- Rabbit MQ: Message queue for an order queue."
   ]
  },
  {
   "cell_type": "code",
   "execution_count": 16,
   "metadata": {},
   "outputs": [
    {
     "name": "stdout",
     "output_type": "stream",
     "text": [
      "[]\n"
     ]
    }
   ],
   "source": [
    "! az role assignment list --assignee {current_user_objectid}"
   ]
  },
  {
   "cell_type": "code",
   "execution_count": null,
   "metadata": {},
   "outputs": [],
   "source": [
    "# Create a namespace\n",
    "! kubectl create namespace {aks_resource_namespace}\n",
    "\n",
    "# Deploy the application\n",
    "! kubectl apply -n {aks_resource_namespace} -f {aks_store_demo_yaml}"
   ]
  },
  {
   "cell_type": "markdown",
   "metadata": {},
   "source": [
    "<a id='8'></a>\n",
    "### 8️⃣ Test the application.\n",
    "When the application runs, a Kubernetes service exposes the application front end to the internet. This process can take a few minutes to complete."
   ]
  },
  {
   "cell_type": "code",
   "execution_count": null,
   "metadata": {},
   "outputs": [
    {
     "name": "stdout",
     "output_type": "stream",
     "text": [
      "NAME          CLASS                                HOSTS   ADDRESS         PORTS   AGE\n",
      "store-front   webapprouting.kubernetes.azure.com   *       52.254.93.172   80      7m18s\n"
     ]
    }
   ],
   "source": [
    "# Check status of the deployed pods\n",
    "! kubectl get pods -n {aks_resource_namespace}\n",
    "\n",
    "# Check for a public IP address for the store-front application. We will monitor progress until the public IP address is available.\n",
    "# Once the **ADDRESS** output is populated, the public IP address is available.\n",
    "! kubectl get ingress store-front -n {aks_resource_namespace} --watch"
   ]
  }
 ],
 "metadata": {
  "kernelspec": {
   "display_name": "Python 3",
   "language": "python",
   "name": "python3"
  },
  "language_info": {
   "codemirror_mode": {
    "name": "ipython",
    "version": 3
   },
   "file_extension": ".py",
   "mimetype": "text/x-python",
   "name": "python",
   "nbconvert_exporter": "python",
   "pygments_lexer": "ipython3",
   "version": "3.12.2"
  }
 },
 "nbformat": 4,
 "nbformat_minor": 2
}
